{
 "cells": [
  {
   "cell_type": "code",
   "execution_count": 1,
   "metadata": {},
   "outputs": [],
   "source": [
    "import pandas as pd\n",
    "import re\n",
    "import matplotlib.pyplot as plt\n",
    "\n",
    "%matplotlib inline"
   ]
  },
  {
   "cell_type": "code",
   "execution_count": 2,
   "metadata": {},
   "outputs": [],
   "source": [
    "from cycler import cycler"
   ]
  },
  {
   "cell_type": "code",
   "execution_count": 3,
   "metadata": {},
   "outputs": [],
   "source": [
    "from matplotlib.ticker import FuncFormatter"
   ]
  },
  {
   "cell_type": "code",
   "execution_count": 4,
   "metadata": {},
   "outputs": [
    {
     "data": {
      "text/html": [
       "<div style='column-count: 2;'><p>AR BERKLEY: <span style='font-family:AR BERKLEY; font-size: 24px;'>AR BERKLEY</p>\n",
       "<p>AR BLANCA: <span style='font-family:AR BLANCA; font-size: 24px;'>AR BLANCA</p>\n",
       "<p>AR BONNIE: <span style='font-family:AR BONNIE; font-size: 24px;'>AR BONNIE</p>\n",
       "<p>AR CARTER: <span style='font-family:AR CARTER; font-size: 24px;'>AR CARTER</p>\n",
       "<p>AR CENA: <span style='font-family:AR CENA; font-size: 24px;'>AR CENA</p>\n",
       "<p>AR CHRISTY: <span style='font-family:AR CHRISTY; font-size: 24px;'>AR CHRISTY</p>\n",
       "<p>AR DARLING: <span style='font-family:AR DARLING; font-size: 24px;'>AR DARLING</p>\n",
       "<p>AR DECODE: <span style='font-family:AR DECODE; font-size: 24px;'>AR DECODE</p>\n",
       "<p>AR DELANEY: <span style='font-family:AR DELANEY; font-size: 24px;'>AR DELANEY</p>\n",
       "<p>AR DESTINE: <span style='font-family:AR DESTINE; font-size: 24px;'>AR DESTINE</p>\n",
       "<p>AR ESSENCE: <span style='font-family:AR ESSENCE; font-size: 24px;'>AR ESSENCE</p>\n",
       "<p>AR HERMANN: <span style='font-family:AR HERMANN; font-size: 24px;'>AR HERMANN</p>\n",
       "<p>AR JULIAN: <span style='font-family:AR JULIAN; font-size: 24px;'>AR JULIAN</p>\n",
       "<p>Adobe Devanagari: <span style='font-family:Adobe Devanagari; font-size: 24px;'>Adobe Devanagari</p>\n",
       "<p>Agency FB: <span style='font-family:Agency FB; font-size: 24px;'>Agency FB</p>\n",
       "<p>Algerian: <span style='font-family:Algerian; font-size: 24px;'>Algerian</p>\n",
       "<p>Arial: <span style='font-family:Arial; font-size: 24px;'>Arial</p>\n",
       "<p>Arial Rounded MT Bold: <span style='font-family:Arial Rounded MT Bold; font-size: 24px;'>Arial Rounded MT Bold</p>\n",
       "<p>Arial Unicode MS: <span style='font-family:Arial Unicode MS; font-size: 24px;'>Arial Unicode MS</p>\n",
       "<p>Bahnschrift: <span style='font-family:Bahnschrift; font-size: 24px;'>Bahnschrift</p>\n",
       "<p>Baskerville Old Face: <span style='font-family:Baskerville Old Face; font-size: 24px;'>Baskerville Old Face</p>\n",
       "<p>Bauhaus 93: <span style='font-family:Bauhaus 93; font-size: 24px;'>Bauhaus 93</p>\n",
       "<p>Bell MT: <span style='font-family:Bell MT; font-size: 24px;'>Bell MT</p>\n",
       "<p>Berlin Sans FB: <span style='font-family:Berlin Sans FB; font-size: 24px;'>Berlin Sans FB</p>\n",
       "<p>Berlin Sans FB Demi: <span style='font-family:Berlin Sans FB Demi; font-size: 24px;'>Berlin Sans FB Demi</p>\n",
       "<p>Bernard MT Condensed: <span style='font-family:Bernard MT Condensed; font-size: 24px;'>Bernard MT Condensed</p>\n",
       "<p>Blackadder ITC: <span style='font-family:Blackadder ITC; font-size: 24px;'>Blackadder ITC</p>\n",
       "<p>Bodoni MT: <span style='font-family:Bodoni MT; font-size: 24px;'>Bodoni MT</p>\n",
       "<p>Book Antiqua: <span style='font-family:Book Antiqua; font-size: 24px;'>Book Antiqua</p>\n",
       "<p>Bookman Old Style: <span style='font-family:Bookman Old Style; font-size: 24px;'>Bookman Old Style</p>\n",
       "<p>Bookshelf Symbol 7: <span style='font-family:Bookshelf Symbol 7; font-size: 24px;'>Bookshelf Symbol 7</p>\n",
       "<p>Bradley Hand ITC: <span style='font-family:Bradley Hand ITC; font-size: 24px;'>Bradley Hand ITC</p>\n",
       "<p>Britannic Bold: <span style='font-family:Britannic Bold; font-size: 24px;'>Britannic Bold</p>\n",
       "<p>Broadway: <span style='font-family:Broadway; font-size: 24px;'>Broadway</p>\n",
       "<p>Brush Script MT: <span style='font-family:Brush Script MT; font-size: 24px;'>Brush Script MT</p>\n",
       "<p>Buxton Sketch: <span style='font-family:Buxton Sketch; font-size: 24px;'>Buxton Sketch</p>\n",
       "<p>Calibri: <span style='font-family:Calibri; font-size: 24px;'>Calibri</p>\n",
       "<p>Californian FB: <span style='font-family:Californian FB; font-size: 24px;'>Californian FB</p>\n",
       "<p>Calisto MT: <span style='font-family:Calisto MT; font-size: 24px;'>Calisto MT</p>\n",
       "<p>Cambria: <span style='font-family:Cambria; font-size: 24px;'>Cambria</p>\n",
       "<p>Candara: <span style='font-family:Candara; font-size: 24px;'>Candara</p>\n",
       "<p>Castellar: <span style='font-family:Castellar; font-size: 24px;'>Castellar</p>\n",
       "<p>Centaur: <span style='font-family:Centaur; font-size: 24px;'>Centaur</p>\n",
       "<p>Century: <span style='font-family:Century; font-size: 24px;'>Century</p>\n",
       "<p>Century Gothic: <span style='font-family:Century Gothic; font-size: 24px;'>Century Gothic</p>\n",
       "<p>Century Schoolbook: <span style='font-family:Century Schoolbook; font-size: 24px;'>Century Schoolbook</p>\n",
       "<p>Chiller: <span style='font-family:Chiller; font-size: 24px;'>Chiller</p>\n",
       "<p>Colonna MT: <span style='font-family:Colonna MT; font-size: 24px;'>Colonna MT</p>\n",
       "<p>Comic Sans MS: <span style='font-family:Comic Sans MS; font-size: 24px;'>Comic Sans MS</p>\n",
       "<p>Consolas: <span style='font-family:Consolas; font-size: 24px;'>Consolas</p>\n",
       "<p>Constantia: <span style='font-family:Constantia; font-size: 24px;'>Constantia</p>\n",
       "<p>Cooper Black: <span style='font-family:Cooper Black; font-size: 24px;'>Cooper Black</p>\n",
       "<p>Copperplate Gothic Bold: <span style='font-family:Copperplate Gothic Bold; font-size: 24px;'>Copperplate Gothic Bold</p>\n",
       "<p>Copperplate Gothic Light: <span style='font-family:Copperplate Gothic Light; font-size: 24px;'>Copperplate Gothic Light</p>\n",
       "<p>Corbel: <span style='font-family:Corbel; font-size: 24px;'>Corbel</p>\n",
       "<p>Courier New: <span style='font-family:Courier New; font-size: 24px;'>Courier New</p>\n",
       "<p>Curlz MT: <span style='font-family:Curlz MT; font-size: 24px;'>Curlz MT</p>\n",
       "<p>DejaVu Sans: <span style='font-family:DejaVu Sans; font-size: 24px;'>DejaVu Sans</p>\n",
       "<p>DejaVu Sans Display: <span style='font-family:DejaVu Sans Display; font-size: 24px;'>DejaVu Sans Display</p>\n",
       "<p>DejaVu Sans Mono: <span style='font-family:DejaVu Sans Mono; font-size: 24px;'>DejaVu Sans Mono</p>\n",
       "<p>DejaVu Serif: <span style='font-family:DejaVu Serif; font-size: 24px;'>DejaVu Serif</p>\n",
       "<p>DejaVu Serif Display: <span style='font-family:DejaVu Serif Display; font-size: 24px;'>DejaVu Serif Display</p>\n",
       "<p>Ebrima: <span style='font-family:Ebrima; font-size: 24px;'>Ebrima</p>\n",
       "<p>Edwardian Script ITC: <span style='font-family:Edwardian Script ITC; font-size: 24px;'>Edwardian Script ITC</p>\n",
       "<p>Elephant: <span style='font-family:Elephant; font-size: 24px;'>Elephant</p>\n",
       "<p>Engravers MT: <span style='font-family:Engravers MT; font-size: 24px;'>Engravers MT</p>\n",
       "<p>Eras Bold ITC: <span style='font-family:Eras Bold ITC; font-size: 24px;'>Eras Bold ITC</p>\n",
       "<p>Eras Demi ITC: <span style='font-family:Eras Demi ITC; font-size: 24px;'>Eras Demi ITC</p>\n",
       "<p>Eras Light ITC: <span style='font-family:Eras Light ITC; font-size: 24px;'>Eras Light ITC</p>\n",
       "<p>Eras Medium ITC: <span style='font-family:Eras Medium ITC; font-size: 24px;'>Eras Medium ITC</p>\n",
       "<p>Felix Titling: <span style='font-family:Felix Titling; font-size: 24px;'>Felix Titling</p>\n",
       "<p>Footlight MT Light: <span style='font-family:Footlight MT Light; font-size: 24px;'>Footlight MT Light</p>\n",
       "<p>Forte: <span style='font-family:Forte; font-size: 24px;'>Forte</p>\n",
       "<p>Franklin Gothic Book: <span style='font-family:Franklin Gothic Book; font-size: 24px;'>Franklin Gothic Book</p>\n",
       "<p>Franklin Gothic Demi: <span style='font-family:Franklin Gothic Demi; font-size: 24px;'>Franklin Gothic Demi</p>\n",
       "<p>Franklin Gothic Demi Cond: <span style='font-family:Franklin Gothic Demi Cond; font-size: 24px;'>Franklin Gothic Demi Cond</p>\n",
       "<p>Franklin Gothic Heavy: <span style='font-family:Franklin Gothic Heavy; font-size: 24px;'>Franklin Gothic Heavy</p>\n",
       "<p>Franklin Gothic Medium: <span style='font-family:Franklin Gothic Medium; font-size: 24px;'>Franklin Gothic Medium</p>\n",
       "<p>Franklin Gothic Medium Cond: <span style='font-family:Franklin Gothic Medium Cond; font-size: 24px;'>Franklin Gothic Medium Cond</p>\n",
       "<p>Freestyle Script: <span style='font-family:Freestyle Script; font-size: 24px;'>Freestyle Script</p>\n",
       "<p>French Script MT: <span style='font-family:French Script MT; font-size: 24px;'>French Script MT</p>\n",
       "<p>Gabriola: <span style='font-family:Gabriola; font-size: 24px;'>Gabriola</p>\n",
       "<p>Gadugi: <span style='font-family:Gadugi; font-size: 24px;'>Gadugi</p>\n",
       "<p>Garamond: <span style='font-family:Garamond; font-size: 24px;'>Garamond</p>\n",
       "<p>Georgia: <span style='font-family:Georgia; font-size: 24px;'>Georgia</p>\n",
       "<p>Gigi: <span style='font-family:Gigi; font-size: 24px;'>Gigi</p>\n",
       "<p>Gill Sans MT: <span style='font-family:Gill Sans MT; font-size: 24px;'>Gill Sans MT</p>\n",
       "<p>Gill Sans MT Condensed: <span style='font-family:Gill Sans MT Condensed; font-size: 24px;'>Gill Sans MT Condensed</p>\n",
       "<p>Gill Sans MT Ext Condensed Bold: <span style='font-family:Gill Sans MT Ext Condensed Bold; font-size: 24px;'>Gill Sans MT Ext Condensed Bold</p>\n",
       "<p>Gill Sans Ultra Bold: <span style='font-family:Gill Sans Ultra Bold; font-size: 24px;'>Gill Sans Ultra Bold</p>\n",
       "<p>Gill Sans Ultra Bold Condensed: <span style='font-family:Gill Sans Ultra Bold Condensed; font-size: 24px;'>Gill Sans Ultra Bold Condensed</p>\n",
       "<p>Gloucester MT Extra Condensed: <span style='font-family:Gloucester MT Extra Condensed; font-size: 24px;'>Gloucester MT Extra Condensed</p>\n",
       "<p>Goudy Old Style: <span style='font-family:Goudy Old Style; font-size: 24px;'>Goudy Old Style</p>\n",
       "<p>Goudy Stout: <span style='font-family:Goudy Stout; font-size: 24px;'>Goudy Stout</p>\n",
       "<p>Haettenschweiler: <span style='font-family:Haettenschweiler; font-size: 24px;'>Haettenschweiler</p>\n",
       "<p>Harlow Solid Italic: <span style='font-family:Harlow Solid Italic; font-size: 24px;'>Harlow Solid Italic</p>\n",
       "<p>Harrington: <span style='font-family:Harrington; font-size: 24px;'>Harrington</p>\n",
       "<p>High Tower Text: <span style='font-family:High Tower Text; font-size: 24px;'>High Tower Text</p>\n",
       "<p>HoloLens MDL2 Assets: <span style='font-family:HoloLens MDL2 Assets; font-size: 24px;'>HoloLens MDL2 Assets</p>\n",
       "<p>Impact: <span style='font-family:Impact; font-size: 24px;'>Impact</p>\n",
       "<p>Imprint MT Shadow: <span style='font-family:Imprint MT Shadow; font-size: 24px;'>Imprint MT Shadow</p>\n",
       "<p>Informal Roman: <span style='font-family:Informal Roman; font-size: 24px;'>Informal Roman</p>\n",
       "<p>Ink Free: <span style='font-family:Ink Free; font-size: 24px;'>Ink Free</p>\n",
       "<p>Javanese Text: <span style='font-family:Javanese Text; font-size: 24px;'>Javanese Text</p>\n",
       "<p>Jokerman: <span style='font-family:Jokerman; font-size: 24px;'>Jokerman</p>\n",
       "<p>Juice ITC: <span style='font-family:Juice ITC; font-size: 24px;'>Juice ITC</p>\n",
       "<p>Kristen ITC: <span style='font-family:Kristen ITC; font-size: 24px;'>Kristen ITC</p>\n",
       "<p>Kunstler Script: <span style='font-family:Kunstler Script; font-size: 24px;'>Kunstler Script</p>\n",
       "<p>Leelawadee UI: <span style='font-family:Leelawadee UI; font-size: 24px;'>Leelawadee UI</p>\n",
       "<p>Lucida Bright: <span style='font-family:Lucida Bright; font-size: 24px;'>Lucida Bright</p>\n",
       "<p>Lucida Calligraphy: <span style='font-family:Lucida Calligraphy; font-size: 24px;'>Lucida Calligraphy</p>\n",
       "<p>Lucida Console: <span style='font-family:Lucida Console; font-size: 24px;'>Lucida Console</p>\n",
       "<p>Lucida Fax: <span style='font-family:Lucida Fax; font-size: 24px;'>Lucida Fax</p>\n",
       "<p>Lucida Handwriting: <span style='font-family:Lucida Handwriting; font-size: 24px;'>Lucida Handwriting</p>\n",
       "<p>Lucida Sans: <span style='font-family:Lucida Sans; font-size: 24px;'>Lucida Sans</p>\n",
       "<p>Lucida Sans Typewriter: <span style='font-family:Lucida Sans Typewriter; font-size: 24px;'>Lucida Sans Typewriter</p>\n",
       "<p>Lucida Sans Unicode: <span style='font-family:Lucida Sans Unicode; font-size: 24px;'>Lucida Sans Unicode</p>\n",
       "<p>MS Outlook: <span style='font-family:MS Outlook; font-size: 24px;'>MS Outlook</p>\n",
       "<p>MS Reference Sans Serif: <span style='font-family:MS Reference Sans Serif; font-size: 24px;'>MS Reference Sans Serif</p>\n",
       "<p>MS Reference Specialty: <span style='font-family:MS Reference Specialty; font-size: 24px;'>MS Reference Specialty</p>\n",
       "<p>MT Extra: <span style='font-family:MT Extra; font-size: 24px;'>MT Extra</p>\n",
       "<p>MV Boli: <span style='font-family:MV Boli; font-size: 24px;'>MV Boli</p>\n",
       "<p>Magneto: <span style='font-family:Magneto; font-size: 24px;'>Magneto</p>\n",
       "<p>Maiandra GD: <span style='font-family:Maiandra GD; font-size: 24px;'>Maiandra GD</p>\n",
       "<p>Malgun Gothic: <span style='font-family:Malgun Gothic; font-size: 24px;'>Malgun Gothic</p>\n",
       "<p>Marlett: <span style='font-family:Marlett; font-size: 24px;'>Marlett</p>\n",
       "<p>Matura MT Script Capitals: <span style='font-family:Matura MT Script Capitals; font-size: 24px;'>Matura MT Script Capitals</p>\n",
       "<p>Microsoft Himalaya: <span style='font-family:Microsoft Himalaya; font-size: 24px;'>Microsoft Himalaya</p>\n",
       "<p>Microsoft New Tai Lue: <span style='font-family:Microsoft New Tai Lue; font-size: 24px;'>Microsoft New Tai Lue</p>\n",
       "<p>Microsoft PhagsPa: <span style='font-family:Microsoft PhagsPa; font-size: 24px;'>Microsoft PhagsPa</p>\n",
       "<p>Microsoft Sans Serif: <span style='font-family:Microsoft Sans Serif; font-size: 24px;'>Microsoft Sans Serif</p>\n",
       "<p>Microsoft Tai Le: <span style='font-family:Microsoft Tai Le; font-size: 24px;'>Microsoft Tai Le</p>\n",
       "<p>Microsoft Yi Baiti: <span style='font-family:Microsoft Yi Baiti; font-size: 24px;'>Microsoft Yi Baiti</p>\n",
       "<p>Mistral: <span style='font-family:Mistral; font-size: 24px;'>Mistral</p>\n",
       "<p>Modern No. 20: <span style='font-family:Modern No. 20; font-size: 24px;'>Modern No. 20</p>\n",
       "<p>Mongolian Baiti: <span style='font-family:Mongolian Baiti; font-size: 24px;'>Mongolian Baiti</p>\n",
       "<p>Monotype Corsiva: <span style='font-family:Monotype Corsiva; font-size: 24px;'>Monotype Corsiva</p>\n",
       "<p>Myanmar Text: <span style='font-family:Myanmar Text; font-size: 24px;'>Myanmar Text</p>\n",
       "<p>Niagara Engraved: <span style='font-family:Niagara Engraved; font-size: 24px;'>Niagara Engraved</p>\n",
       "<p>Niagara Solid: <span style='font-family:Niagara Solid; font-size: 24px;'>Niagara Solid</p>\n",
       "<p>Nirmala UI: <span style='font-family:Nirmala UI; font-size: 24px;'>Nirmala UI</p>\n",
       "<p>OCR A Extended: <span style='font-family:OCR A Extended; font-size: 24px;'>OCR A Extended</p>\n",
       "<p>Old English Text MT: <span style='font-family:Old English Text MT; font-size: 24px;'>Old English Text MT</p>\n",
       "<p>Onyx: <span style='font-family:Onyx; font-size: 24px;'>Onyx</p>\n",
       "<p>Oswald: <span style='font-family:Oswald; font-size: 24px;'>Oswald</p>\n",
       "<p>PT Sans: <span style='font-family:PT Sans; font-size: 24px;'>PT Sans</p>\n",
       "<p>PT Sans Narrow: <span style='font-family:PT Sans Narrow; font-size: 24px;'>PT Sans Narrow</p>\n",
       "<p>Palace Script MT: <span style='font-family:Palace Script MT; font-size: 24px;'>Palace Script MT</p>\n",
       "<p>Palatino Linotype: <span style='font-family:Palatino Linotype; font-size: 24px;'>Palatino Linotype</p>\n",
       "<p>Papyrus: <span style='font-family:Papyrus; font-size: 24px;'>Papyrus</p>\n",
       "<p>Parchment: <span style='font-family:Parchment; font-size: 24px;'>Parchment</p>\n",
       "<p>Perpetua: <span style='font-family:Perpetua; font-size: 24px;'>Perpetua</p>\n",
       "<p>Perpetua Titling MT: <span style='font-family:Perpetua Titling MT; font-size: 24px;'>Perpetua Titling MT</p>\n",
       "<p>Playbill: <span style='font-family:Playbill; font-size: 24px;'>Playbill</p>\n",
       "<p>Poor Richard: <span style='font-family:Poor Richard; font-size: 24px;'>Poor Richard</p>\n",
       "<p>Pristina: <span style='font-family:Pristina; font-size: 24px;'>Pristina</p>\n",
       "<p>Rage Italic: <span style='font-family:Rage Italic; font-size: 24px;'>Rage Italic</p>\n",
       "<p>Ravie: <span style='font-family:Ravie; font-size: 24px;'>Ravie</p>\n",
       "<p>Rockwell: <span style='font-family:Rockwell; font-size: 24px;'>Rockwell</p>\n",
       "<p>Rockwell Condensed: <span style='font-family:Rockwell Condensed; font-size: 24px;'>Rockwell Condensed</p>\n",
       "<p>Rockwell Extra Bold: <span style='font-family:Rockwell Extra Bold; font-size: 24px;'>Rockwell Extra Bold</p>\n",
       "<p>STIXGeneral: <span style='font-family:STIXGeneral; font-size: 24px;'>STIXGeneral</p>\n",
       "<p>STIXNonUnicode: <span style='font-family:STIXNonUnicode; font-size: 24px;'>STIXNonUnicode</p>\n",
       "<p>STIXSizeFiveSym: <span style='font-family:STIXSizeFiveSym; font-size: 24px;'>STIXSizeFiveSym</p>\n",
       "<p>STIXSizeFourSym: <span style='font-family:STIXSizeFourSym; font-size: 24px;'>STIXSizeFourSym</p>\n",
       "<p>STIXSizeOneSym: <span style='font-family:STIXSizeOneSym; font-size: 24px;'>STIXSizeOneSym</p>\n",
       "<p>STIXSizeThreeSym: <span style='font-family:STIXSizeThreeSym; font-size: 24px;'>STIXSizeThreeSym</p>\n",
       "<p>STIXSizeTwoSym: <span style='font-family:STIXSizeTwoSym; font-size: 24px;'>STIXSizeTwoSym</p>\n",
       "<p>Script MT Bold: <span style='font-family:Script MT Bold; font-size: 24px;'>Script MT Bold</p>\n",
       "<p>Segoe MDL2 Assets: <span style='font-family:Segoe MDL2 Assets; font-size: 24px;'>Segoe MDL2 Assets</p>\n",
       "<p>Segoe Marker: <span style='font-family:Segoe Marker; font-size: 24px;'>Segoe Marker</p>\n",
       "<p>Segoe Print: <span style='font-family:Segoe Print; font-size: 24px;'>Segoe Print</p>\n",
       "<p>Segoe Script: <span style='font-family:Segoe Script; font-size: 24px;'>Segoe Script</p>\n",
       "<p>Segoe UI: <span style='font-family:Segoe UI; font-size: 24px;'>Segoe UI</p>\n",
       "<p>Segoe UI Emoji: <span style='font-family:Segoe UI Emoji; font-size: 24px;'>Segoe UI Emoji</p>\n",
       "<p>Segoe UI Historic: <span style='font-family:Segoe UI Historic; font-size: 24px;'>Segoe UI Historic</p>\n",
       "<p>Segoe UI Symbol: <span style='font-family:Segoe UI Symbol; font-size: 24px;'>Segoe UI Symbol</p>\n",
       "<p>Showcard Gothic: <span style='font-family:Showcard Gothic; font-size: 24px;'>Showcard Gothic</p>\n",
       "<p>SimSun-ExtB: <span style='font-family:SimSun-ExtB; font-size: 24px;'>SimSun-ExtB</p>\n",
       "<p>SketchFlow Print: <span style='font-family:SketchFlow Print; font-size: 24px;'>SketchFlow Print</p>\n",
       "<p>Snap ITC: <span style='font-family:Snap ITC; font-size: 24px;'>Snap ITC</p>\n",
       "<p>Stencil: <span style='font-family:Stencil; font-size: 24px;'>Stencil</p>\n",
       "<p>Sylfaen: <span style='font-family:Sylfaen; font-size: 24px;'>Sylfaen</p>\n",
       "<p>Symbol: <span style='font-family:Symbol; font-size: 24px;'>Symbol</p>\n",
       "<p>Tahoma: <span style='font-family:Tahoma; font-size: 24px;'>Tahoma</p>\n",
       "<p>Tempus Sans ITC: <span style='font-family:Tempus Sans ITC; font-size: 24px;'>Tempus Sans ITC</p>\n",
       "<p>Times New Roman: <span style='font-family:Times New Roman; font-size: 24px;'>Times New Roman</p>\n",
       "<p>Trebuchet MS: <span style='font-family:Trebuchet MS; font-size: 24px;'>Trebuchet MS</p>\n",
       "<p>Tw Cen MT: <span style='font-family:Tw Cen MT; font-size: 24px;'>Tw Cen MT</p>\n",
       "<p>Tw Cen MT Condensed: <span style='font-family:Tw Cen MT Condensed; font-size: 24px;'>Tw Cen MT Condensed</p>\n",
       "<p>Tw Cen MT Condensed Extra Bold: <span style='font-family:Tw Cen MT Condensed Extra Bold; font-size: 24px;'>Tw Cen MT Condensed Extra Bold</p>\n",
       "<p>Verdana: <span style='font-family:Verdana; font-size: 24px;'>Verdana</p>\n",
       "<p>Viner Hand ITC: <span style='font-family:Viner Hand ITC; font-size: 24px;'>Viner Hand ITC</p>\n",
       "<p>Vivaldi: <span style='font-family:Vivaldi; font-size: 24px;'>Vivaldi</p>\n",
       "<p>Vladimir Script: <span style='font-family:Vladimir Script; font-size: 24px;'>Vladimir Script</p>\n",
       "<p>Webdings: <span style='font-family:Webdings; font-size: 24px;'>Webdings</p>\n",
       "<p>Wide Latin: <span style='font-family:Wide Latin; font-size: 24px;'>Wide Latin</p>\n",
       "<p>Wingdings: <span style='font-family:Wingdings; font-size: 24px;'>Wingdings</p>\n",
       "<p>Wingdings 2: <span style='font-family:Wingdings 2; font-size: 24px;'>Wingdings 2</p>\n",
       "<p>Wingdings 3: <span style='font-family:Wingdings 3; font-size: 24px;'>Wingdings 3</p>\n",
       "<p>ZWAdobeF: <span style='font-family:ZWAdobeF; font-size: 24px;'>ZWAdobeF</p>\n",
       "<p>cmb10: <span style='font-family:cmb10; font-size: 24px;'>cmb10</p>\n",
       "<p>cmex10: <span style='font-family:cmex10; font-size: 24px;'>cmex10</p>\n",
       "<p>cmmi10: <span style='font-family:cmmi10; font-size: 24px;'>cmmi10</p>\n",
       "<p>cmr10: <span style='font-family:cmr10; font-size: 24px;'>cmr10</p>\n",
       "<p>cmss10: <span style='font-family:cmss10; font-size: 24px;'>cmss10</p>\n",
       "<p>cmsy10: <span style='font-family:cmsy10; font-size: 24px;'>cmsy10</p>\n",
       "<p>cmtt10: <span style='font-family:cmtt10; font-size: 24px;'>cmtt10</p></div>"
      ],
      "text/plain": [
       "<IPython.core.display.HTML object>"
      ]
     },
     "execution_count": 4,
     "metadata": {},
     "output_type": "execute_result"
    }
   ],
   "source": [
    "import matplotlib.font_manager\n",
    "from IPython.core.display import HTML\n",
    "\n",
    "def make_html(fontname):\n",
    "    return \"<p>{font}: <span style='font-family:{font}; font-size: 24px;'>{font}</p>\".format(font=fontname)\n",
    "\n",
    "code = \"\\n\".join([make_html(font) for font in sorted(set([f.name for f in matplotlib.font_manager.fontManager.ttflist]))])\n",
    "\n",
    "HTML(\"<div style='column-count: 2;'>{}</div>\".format(code))"
   ]
  },
  {
   "cell_type": "code",
   "execution_count": 5,
   "metadata": {},
   "outputs": [],
   "source": [
    "pd.set_option('display.max_colwidth', 400)\n",
    "pd.set_option('display.max_rows',4000)"
   ]
  },
  {
   "cell_type": "code",
   "execution_count": 6,
   "metadata": {},
   "outputs": [
    {
     "data": {
      "text/html": [
       "<div>\n",
       "<style scoped>\n",
       "    .dataframe tbody tr th:only-of-type {\n",
       "        vertical-align: middle;\n",
       "    }\n",
       "\n",
       "    .dataframe tbody tr th {\n",
       "        vertical-align: top;\n",
       "    }\n",
       "\n",
       "    .dataframe thead th {\n",
       "        text-align: right;\n",
       "    }\n",
       "</style>\n",
       "<table border=\"1\" class=\"dataframe\">\n",
       "  <thead>\n",
       "    <tr style=\"text-align: right;\">\n",
       "      <th></th>\n",
       "      <th>Country or Area</th>\n",
       "      <th>Year</th>\n",
       "      <th>Commodity</th>\n",
       "      <th>Flow</th>\n",
       "      <th>Trade (USD)</th>\n",
       "      <th>Weight (kg)</th>\n",
       "    </tr>\n",
       "  </thead>\n",
       "  <tbody>\n",
       "    <tr>\n",
       "      <th>0</th>\n",
       "      <td>Afghanistan</td>\n",
       "      <td>2016</td>\n",
       "      <td>Cigarettes containing tobacco</td>\n",
       "      <td>Import</td>\n",
       "      <td>49111872.0</td>\n",
       "      <td>2629072.0</td>\n",
       "    </tr>\n",
       "    <tr>\n",
       "      <th>1</th>\n",
       "      <td>Afghanistan</td>\n",
       "      <td>2016</td>\n",
       "      <td>Homogenized or reconstituted tobacco</td>\n",
       "      <td>Import</td>\n",
       "      <td>1177842.0</td>\n",
       "      <td>NaN</td>\n",
       "    </tr>\n",
       "    <tr>\n",
       "      <th>2</th>\n",
       "      <td>Afghanistan</td>\n",
       "      <td>2015</td>\n",
       "      <td>Cigarettes containing tobacco</td>\n",
       "      <td>Import</td>\n",
       "      <td>87227851.0</td>\n",
       "      <td>4347904.0</td>\n",
       "    </tr>\n",
       "    <tr>\n",
       "      <th>3</th>\n",
       "      <td>Afghanistan</td>\n",
       "      <td>2015</td>\n",
       "      <td>Homogenized or reconstituted tobacco</td>\n",
       "      <td>Import</td>\n",
       "      <td>427504.0</td>\n",
       "      <td>106520.0</td>\n",
       "    </tr>\n",
       "    <tr>\n",
       "      <th>4</th>\n",
       "      <td>Afghanistan</td>\n",
       "      <td>2014</td>\n",
       "      <td>Cigarettes containing tobacco</td>\n",
       "      <td>Import</td>\n",
       "      <td>3984800.0</td>\n",
       "      <td>207074.0</td>\n",
       "    </tr>\n",
       "  </tbody>\n",
       "</table>\n",
       "</div>"
      ],
      "text/plain": [
       "  Country or Area  Year                             Commodity    Flow  \\\n",
       "0     Afghanistan  2016         Cigarettes containing tobacco  Import   \n",
       "1     Afghanistan  2016  Homogenized or reconstituted tobacco  Import   \n",
       "2     Afghanistan  2015         Cigarettes containing tobacco  Import   \n",
       "3     Afghanistan  2015  Homogenized or reconstituted tobacco  Import   \n",
       "4     Afghanistan  2014         Cigarettes containing tobacco  Import   \n",
       "\n",
       "   Trade (USD)  Weight (kg)  \n",
       "0   49111872.0    2629072.0  \n",
       "1    1177842.0          NaN  \n",
       "2   87227851.0    4347904.0  \n",
       "3     427504.0     106520.0  \n",
       "4    3984800.0     207074.0  "
      ]
     },
     "execution_count": 6,
     "metadata": {},
     "output_type": "execute_result"
    }
   ],
   "source": [
    "df = pd.read_csv('UNdata_tobacco.csv')\n",
    "df.head()"
   ]
  },
  {
   "cell_type": "code",
   "execution_count": 7,
   "metadata": {},
   "outputs": [],
   "source": [
    "df.columns = df.columns.str.replace('\\s+', '_')"
   ]
  },
  {
   "cell_type": "code",
   "execution_count": 8,
   "metadata": {},
   "outputs": [],
   "source": [
    "df.columns = df.columns.str.replace('(','_')"
   ]
  },
  {
   "cell_type": "code",
   "execution_count": 9,
   "metadata": {},
   "outputs": [],
   "source": [
    "df.columns = df.columns.str.replace(')','_')"
   ]
  },
  {
   "cell_type": "code",
   "execution_count": 10,
   "metadata": {},
   "outputs": [],
   "source": [
    "df.columns = df.columns.str.replace('Country_or_Area','Country_Area')\n",
    "df.columns = df.columns.str.replace('Trade__USD_','USD')\n",
    "df.columns = df.columns.str.replace('Weight__kg_','Weight')"
   ]
  },
  {
   "cell_type": "code",
   "execution_count": 11,
   "metadata": {},
   "outputs": [
    {
     "data": {
      "text/html": [
       "<div>\n",
       "<style scoped>\n",
       "    .dataframe tbody tr th:only-of-type {\n",
       "        vertical-align: middle;\n",
       "    }\n",
       "\n",
       "    .dataframe tbody tr th {\n",
       "        vertical-align: top;\n",
       "    }\n",
       "\n",
       "    .dataframe thead th {\n",
       "        text-align: right;\n",
       "    }\n",
       "</style>\n",
       "<table border=\"1\" class=\"dataframe\">\n",
       "  <thead>\n",
       "    <tr style=\"text-align: right;\">\n",
       "      <th></th>\n",
       "      <th>Country_Area</th>\n",
       "      <th>Year</th>\n",
       "      <th>Commodity</th>\n",
       "      <th>Flow</th>\n",
       "      <th>USD</th>\n",
       "      <th>Weight</th>\n",
       "    </tr>\n",
       "  </thead>\n",
       "  <tbody>\n",
       "    <tr>\n",
       "      <th>0</th>\n",
       "      <td>Afghanistan</td>\n",
       "      <td>2016</td>\n",
       "      <td>Cigarettes containing tobacco</td>\n",
       "      <td>Import</td>\n",
       "      <td>49111872.0</td>\n",
       "      <td>2629072.0</td>\n",
       "    </tr>\n",
       "  </tbody>\n",
       "</table>\n",
       "</div>"
      ],
      "text/plain": [
       "  Country_Area  Year                      Commodity    Flow         USD  \\\n",
       "0  Afghanistan  2016  Cigarettes containing tobacco  Import  49111872.0   \n",
       "\n",
       "      Weight  \n",
       "0  2629072.0  "
      ]
     },
     "execution_count": 11,
     "metadata": {},
     "output_type": "execute_result"
    }
   ],
   "source": [
    "df.head(1)"
   ]
  },
  {
   "cell_type": "code",
   "execution_count": 12,
   "metadata": {},
   "outputs": [
    {
     "data": {
      "text/plain": [
       "Country_Area    48995\n",
       "Year            48995\n",
       "Commodity       48995\n",
       "Flow            48995\n",
       "USD             48995\n",
       "Weight          48285\n",
       "dtype: int64"
      ]
     },
     "execution_count": 12,
     "metadata": {},
     "output_type": "execute_result"
    }
   ],
   "source": [
    "df.count()"
   ]
  },
  {
   "cell_type": "code",
   "execution_count": 13,
   "metadata": {},
   "outputs": [
    {
     "data": {
      "text/plain": [
       "Import       26829\n",
       "Export       18849\n",
       "Re-Export     2692\n",
       "Re-Import      625\n",
       "Name: Flow, dtype: int64"
      ]
     },
     "execution_count": 13,
     "metadata": {},
     "output_type": "execute_result"
    }
   ],
   "source": [
    "df.Flow.value_counts()"
   ]
  },
  {
   "cell_type": "code",
   "execution_count": 14,
   "metadata": {},
   "outputs": [],
   "source": [
    "#df.groupby('Flow').Country_Area.value_counts().sort_values(ascending=False)"
   ]
  },
  {
   "cell_type": "code",
   "execution_count": 15,
   "metadata": {},
   "outputs": [
    {
     "data": {
      "text/html": [
       "<div>\n",
       "<style scoped>\n",
       "    .dataframe tbody tr th:only-of-type {\n",
       "        vertical-align: middle;\n",
       "    }\n",
       "\n",
       "    .dataframe tbody tr th {\n",
       "        vertical-align: top;\n",
       "    }\n",
       "\n",
       "    .dataframe thead th {\n",
       "        text-align: right;\n",
       "    }\n",
       "</style>\n",
       "<table border=\"1\" class=\"dataframe\">\n",
       "  <thead>\n",
       "    <tr style=\"text-align: right;\">\n",
       "      <th></th>\n",
       "      <th>Country_Area</th>\n",
       "      <th>Year</th>\n",
       "      <th>Commodity</th>\n",
       "      <th>Flow</th>\n",
       "      <th>USD</th>\n",
       "      <th>Weight</th>\n",
       "    </tr>\n",
       "  </thead>\n",
       "  <tbody>\n",
       "    <tr>\n",
       "      <th>14</th>\n",
       "      <td>Albania</td>\n",
       "      <td>2016</td>\n",
       "      <td>Tobacco, unmanufactured, not stemmed or stripped</td>\n",
       "      <td>Export</td>\n",
       "      <td>183785.0</td>\n",
       "      <td>103767.0</td>\n",
       "    </tr>\n",
       "    <tr>\n",
       "      <th>15</th>\n",
       "      <td>Albania</td>\n",
       "      <td>2016</td>\n",
       "      <td>Tobacco, unmanufactured, stemmed or stripped</td>\n",
       "      <td>Export</td>\n",
       "      <td>4110889.0</td>\n",
       "      <td>1323120.0</td>\n",
       "    </tr>\n",
       "    <tr>\n",
       "      <th>18</th>\n",
       "      <td>Albania</td>\n",
       "      <td>2016</td>\n",
       "      <td>Cigarettes containing tobacco</td>\n",
       "      <td>Export</td>\n",
       "      <td>694779.0</td>\n",
       "      <td>162157.0</td>\n",
       "    </tr>\n",
       "    <tr>\n",
       "      <th>24</th>\n",
       "      <td>Albania</td>\n",
       "      <td>2013</td>\n",
       "      <td>Tobacco, unmanufactured, stemmed or stripped</td>\n",
       "      <td>Export</td>\n",
       "      <td>4603628.0</td>\n",
       "      <td>1205741.0</td>\n",
       "    </tr>\n",
       "    <tr>\n",
       "      <th>27</th>\n",
       "      <td>Albania</td>\n",
       "      <td>2013</td>\n",
       "      <td>Cigarettes containing tobacco</td>\n",
       "      <td>Export</td>\n",
       "      <td>1495582.0</td>\n",
       "      <td>309236.0</td>\n",
       "    </tr>\n",
       "  </tbody>\n",
       "</table>\n",
       "</div>"
      ],
      "text/plain": [
       "   Country_Area  Year                                         Commodity  \\\n",
       "14      Albania  2016  Tobacco, unmanufactured, not stemmed or stripped   \n",
       "15      Albania  2016      Tobacco, unmanufactured, stemmed or stripped   \n",
       "18      Albania  2016                     Cigarettes containing tobacco   \n",
       "24      Albania  2013      Tobacco, unmanufactured, stemmed or stripped   \n",
       "27      Albania  2013                     Cigarettes containing tobacco   \n",
       "\n",
       "      Flow        USD     Weight  \n",
       "14  Export   183785.0   103767.0  \n",
       "15  Export  4110889.0  1323120.0  \n",
       "18  Export   694779.0   162157.0  \n",
       "24  Export  4603628.0  1205741.0  \n",
       "27  Export  1495582.0   309236.0  "
      ]
     },
     "execution_count": 15,
     "metadata": {},
     "output_type": "execute_result"
    }
   ],
   "source": [
    "export_df = df[df.Flow.str.contains(\"Export\", case=False, na=False)]\n",
    "export_df.head()"
   ]
  },
  {
   "cell_type": "code",
   "execution_count": 16,
   "metadata": {},
   "outputs": [
    {
     "data": {
      "text/plain": [
       "Cigarettes containing tobacco                            3839\n",
       "Cigarette or pipe tobacco and tobacco substitute mixe    2774\n",
       "Cigars, cheroots and cigarillos, containing tobacco      2688\n",
       "Tobacco, unmanufactured, stemmed or stripped             2598\n",
       "Tobacco, unmanufactured, not stemmed or stripped         2523\n",
       "Products of tobacco, substitute nes, extract, essence    2106\n",
       "Cigars, cheroots, cigarettes, with tobacco substitute    1996\n",
       "Tobacco refuse                                           1921\n",
       "Homogenized or reconstituted tobacco                     1096\n",
       "Name: Commodity, dtype: int64"
      ]
     },
     "execution_count": 16,
     "metadata": {},
     "output_type": "execute_result"
    }
   ],
   "source": [
    "export_df.Commodity.value_counts()"
   ]
  },
  {
   "cell_type": "code",
   "execution_count": 17,
   "metadata": {},
   "outputs": [],
   "source": [
    "pd.options.display.float_format = '{:.0f}'.format"
   ]
  },
  {
   "cell_type": "code",
   "execution_count": 18,
   "metadata": {},
   "outputs": [
    {
     "data": {
      "text/html": [
       "<div>\n",
       "<style scoped>\n",
       "    .dataframe tbody tr th:only-of-type {\n",
       "        vertical-align: middle;\n",
       "    }\n",
       "\n",
       "    .dataframe tbody tr th {\n",
       "        vertical-align: top;\n",
       "    }\n",
       "\n",
       "    .dataframe thead th {\n",
       "        text-align: right;\n",
       "    }\n",
       "</style>\n",
       "<table border=\"1\" class=\"dataframe\">\n",
       "  <thead>\n",
       "    <tr style=\"text-align: right;\">\n",
       "      <th></th>\n",
       "      <th>Country_Area</th>\n",
       "      <th>Year</th>\n",
       "      <th>Commodity</th>\n",
       "      <th>Flow</th>\n",
       "      <th>USD</th>\n",
       "      <th>Weight</th>\n",
       "    </tr>\n",
       "  </thead>\n",
       "  <tbody>\n",
       "    <tr>\n",
       "      <th>198</th>\n",
       "      <td>Algeria</td>\n",
       "      <td>2017</td>\n",
       "      <td>Cigarettes containing tobacco</td>\n",
       "      <td>Export</td>\n",
       "      <td>11975</td>\n",
       "      <td>866</td>\n",
       "    </tr>\n",
       "    <tr>\n",
       "      <th>200</th>\n",
       "      <td>Algeria</td>\n",
       "      <td>2017</td>\n",
       "      <td>Products of tobacco, substitute nes, extract, essence</td>\n",
       "      <td>Export</td>\n",
       "      <td>5809</td>\n",
       "      <td>410</td>\n",
       "    </tr>\n",
       "    <tr>\n",
       "      <th>821</th>\n",
       "      <td>Argentina</td>\n",
       "      <td>2017</td>\n",
       "      <td>Tobacco, unmanufactured, not stemmed or stripped</td>\n",
       "      <td>Export</td>\n",
       "      <td>5629831</td>\n",
       "      <td>2276579</td>\n",
       "    </tr>\n",
       "    <tr>\n",
       "      <th>823</th>\n",
       "      <td>Argentina</td>\n",
       "      <td>2017</td>\n",
       "      <td>Tobacco, unmanufactured, stemmed or stripped</td>\n",
       "      <td>Export</td>\n",
       "      <td>287135184</td>\n",
       "      <td>60726137</td>\n",
       "    </tr>\n",
       "    <tr>\n",
       "      <th>825</th>\n",
       "      <td>Argentina</td>\n",
       "      <td>2017</td>\n",
       "      <td>Tobacco refuse</td>\n",
       "      <td>Export</td>\n",
       "      <td>10458316</td>\n",
       "      <td>20653260</td>\n",
       "    </tr>\n",
       "  </tbody>\n",
       "</table>\n",
       "</div>"
      ],
      "text/plain": [
       "    Country_Area  Year                                              Commodity  \\\n",
       "198      Algeria  2017                          Cigarettes containing tobacco   \n",
       "200      Algeria  2017  Products of tobacco, substitute nes, extract, essence   \n",
       "821    Argentina  2017       Tobacco, unmanufactured, not stemmed or stripped   \n",
       "823    Argentina  2017           Tobacco, unmanufactured, stemmed or stripped   \n",
       "825    Argentina  2017                                         Tobacco refuse   \n",
       "\n",
       "       Flow       USD   Weight  \n",
       "198  Export     11975      866  \n",
       "200  Export      5809      410  \n",
       "821  Export   5629831  2276579  \n",
       "823  Export 287135184 60726137  \n",
       "825  Export  10458316 20653260  "
      ]
     },
     "execution_count": 18,
     "metadata": {},
     "output_type": "execute_result"
    }
   ],
   "source": [
    "df_2017 = export_df[export_df['Year']==2017]\n",
    "df_2017.head()"
   ]
  },
  {
   "cell_type": "code",
   "execution_count": 19,
   "metadata": {},
   "outputs": [
    {
     "data": {
      "text/html": [
       "<div>\n",
       "<style scoped>\n",
       "    .dataframe tbody tr th:only-of-type {\n",
       "        vertical-align: middle;\n",
       "    }\n",
       "\n",
       "    .dataframe tbody tr th {\n",
       "        vertical-align: top;\n",
       "    }\n",
       "\n",
       "    .dataframe thead th {\n",
       "        text-align: right;\n",
       "    }\n",
       "</style>\n",
       "<table border=\"1\" class=\"dataframe\">\n",
       "  <thead>\n",
       "    <tr style=\"text-align: right;\">\n",
       "      <th></th>\n",
       "      <th>Country_Area</th>\n",
       "      <th>Year</th>\n",
       "      <th>Commodity</th>\n",
       "      <th>Flow</th>\n",
       "      <th>USD</th>\n",
       "      <th>Weight</th>\n",
       "    </tr>\n",
       "  </thead>\n",
       "  <tbody>\n",
       "    <tr>\n",
       "      <th>198</th>\n",
       "      <td>Algeria</td>\n",
       "      <td>2017</td>\n",
       "      <td>Cigarettes containing tobacco</td>\n",
       "      <td>Export</td>\n",
       "      <td>11975</td>\n",
       "      <td>866</td>\n",
       "    </tr>\n",
       "    <tr>\n",
       "      <th>200</th>\n",
       "      <td>Algeria</td>\n",
       "      <td>2017</td>\n",
       "      <td>Products of tobacco, substitute nes, extract, essence</td>\n",
       "      <td>Export</td>\n",
       "      <td>5809</td>\n",
       "      <td>410</td>\n",
       "    </tr>\n",
       "    <tr>\n",
       "      <th>821</th>\n",
       "      <td>Argentina</td>\n",
       "      <td>2017</td>\n",
       "      <td>Tobacco, unmanufactured, not stemmed or stripped</td>\n",
       "      <td>Export</td>\n",
       "      <td>5629831</td>\n",
       "      <td>2276579</td>\n",
       "    </tr>\n",
       "    <tr>\n",
       "      <th>823</th>\n",
       "      <td>Argentina</td>\n",
       "      <td>2017</td>\n",
       "      <td>Tobacco, unmanufactured, stemmed or stripped</td>\n",
       "      <td>Export</td>\n",
       "      <td>287135184</td>\n",
       "      <td>60726137</td>\n",
       "    </tr>\n",
       "    <tr>\n",
       "      <th>825</th>\n",
       "      <td>Argentina</td>\n",
       "      <td>2017</td>\n",
       "      <td>Tobacco refuse</td>\n",
       "      <td>Export</td>\n",
       "      <td>10458316</td>\n",
       "      <td>20653260</td>\n",
       "    </tr>\n",
       "  </tbody>\n",
       "</table>\n",
       "</div>"
      ],
      "text/plain": [
       "    Country_Area  Year                                              Commodity  \\\n",
       "198      Algeria  2017                          Cigarettes containing tobacco   \n",
       "200      Algeria  2017  Products of tobacco, substitute nes, extract, essence   \n",
       "821    Argentina  2017       Tobacco, unmanufactured, not stemmed or stripped   \n",
       "823    Argentina  2017           Tobacco, unmanufactured, stemmed or stripped   \n",
       "825    Argentina  2017                                         Tobacco refuse   \n",
       "\n",
       "       Flow       USD   Weight  \n",
       "198  Export     11975      866  \n",
       "200  Export      5809      410  \n",
       "821  Export   5629831  2276579  \n",
       "823  Export 287135184 60726137  \n",
       "825  Export  10458316 20653260  "
      ]
     },
     "execution_count": 19,
     "metadata": {},
     "output_type": "execute_result"
    }
   ],
   "source": [
    "#LET'S REMOVE 'EU-28'\n",
    "df_2017 = df_2017[df_2017.Country_Area != 'EU-28']\n",
    "df_2017.head()"
   ]
  },
  {
   "cell_type": "code",
   "execution_count": 20,
   "metadata": {},
   "outputs": [
    {
     "data": {
      "text/html": [
       "<div>\n",
       "<style scoped>\n",
       "    .dataframe tbody tr th:only-of-type {\n",
       "        vertical-align: middle;\n",
       "    }\n",
       "\n",
       "    .dataframe tbody tr th {\n",
       "        vertical-align: top;\n",
       "    }\n",
       "\n",
       "    .dataframe thead th {\n",
       "        text-align: right;\n",
       "    }\n",
       "</style>\n",
       "<table border=\"1\" class=\"dataframe\">\n",
       "  <thead>\n",
       "    <tr style=\"text-align: right;\">\n",
       "      <th></th>\n",
       "      <th>Country_Area</th>\n",
       "      <th>usd_2017</th>\n",
       "    </tr>\n",
       "  </thead>\n",
       "  <tbody>\n",
       "    <tr>\n",
       "      <th>10</th>\n",
       "      <td>China, Hong Kong SAR</td>\n",
       "      <td>1769986179</td>\n",
       "    </tr>\n",
       "    <tr>\n",
       "      <th>6</th>\n",
       "      <td>Brazil</td>\n",
       "      <td>2092160511</td>\n",
       "    </tr>\n",
       "    <tr>\n",
       "      <th>54</th>\n",
       "      <td>USA</td>\n",
       "      <td>3089718026</td>\n",
       "    </tr>\n",
       "    <tr>\n",
       "      <th>39</th>\n",
       "      <td>Poland</td>\n",
       "      <td>3340492853</td>\n",
       "    </tr>\n",
       "    <tr>\n",
       "      <th>18</th>\n",
       "      <td>Germany</td>\n",
       "      <td>4519131766</td>\n",
       "    </tr>\n",
       "  </tbody>\n",
       "</table>\n",
       "</div>"
      ],
      "text/plain": [
       "            Country_Area   usd_2017\n",
       "10  China, Hong Kong SAR 1769986179\n",
       "6                 Brazil 2092160511\n",
       "54                   USA 3089718026\n",
       "39                Poland 3340492853\n",
       "18               Germany 4519131766"
      ]
     },
     "execution_count": 20,
     "metadata": {},
     "output_type": "execute_result"
    }
   ],
   "source": [
    "usd_2017 = df_2017.groupby('Country_Area')['USD'].sum().reset_index(name='usd_2017')\n",
    "top20_usd17 = usd_2017.sort_values(by='usd_2017', ascending=True).tail(20)\n",
    "top20_usd17.tail()"
   ]
  },
  {
   "cell_type": "code",
   "execution_count": 22,
   "metadata": {},
   "outputs": [
    {
     "data": {
      "text/html": [
       "<div>\n",
       "<style scoped>\n",
       "    .dataframe tbody tr th:only-of-type {\n",
       "        vertical-align: middle;\n",
       "    }\n",
       "\n",
       "    .dataframe tbody tr th {\n",
       "        vertical-align: top;\n",
       "    }\n",
       "\n",
       "    .dataframe thead th {\n",
       "        text-align: right;\n",
       "    }\n",
       "</style>\n",
       "<table border=\"1\" class=\"dataframe\">\n",
       "  <thead>\n",
       "    <tr style=\"text-align: right;\">\n",
       "      <th></th>\n",
       "      <th>Country_Area</th>\n",
       "      <th>usd_2017</th>\n",
       "      <th>Year</th>\n",
       "      <th>Commodity</th>\n",
       "      <th>Flow</th>\n",
       "      <th>USD</th>\n",
       "      <th>Weight</th>\n",
       "    </tr>\n",
       "  </thead>\n",
       "  <tbody>\n",
       "    <tr>\n",
       "      <th>0</th>\n",
       "      <td>Philippines</td>\n",
       "      <td>277496260</td>\n",
       "      <td>2017</td>\n",
       "      <td>Tobacco, unmanufactured, not stemmed or stripped</td>\n",
       "      <td>Export</td>\n",
       "      <td>12625948</td>\n",
       "      <td>3173914</td>\n",
       "    </tr>\n",
       "    <tr>\n",
       "      <th>1</th>\n",
       "      <td>Philippines</td>\n",
       "      <td>277496260</td>\n",
       "      <td>2017</td>\n",
       "      <td>Tobacco, unmanufactured, stemmed or stripped</td>\n",
       "      <td>Export</td>\n",
       "      <td>80555506</td>\n",
       "      <td>51051988</td>\n",
       "    </tr>\n",
       "    <tr>\n",
       "      <th>2</th>\n",
       "      <td>Philippines</td>\n",
       "      <td>277496260</td>\n",
       "      <td>2017</td>\n",
       "      <td>Tobacco refuse</td>\n",
       "      <td>Export</td>\n",
       "      <td>7274059</td>\n",
       "      <td>5229190</td>\n",
       "    </tr>\n",
       "    <tr>\n",
       "      <th>3</th>\n",
       "      <td>Philippines</td>\n",
       "      <td>277496260</td>\n",
       "      <td>2017</td>\n",
       "      <td>Cigars, cheroots and cigarillos, containing tobacco</td>\n",
       "      <td>Export</td>\n",
       "      <td>484461</td>\n",
       "      <td>37614</td>\n",
       "    </tr>\n",
       "    <tr>\n",
       "      <th>4</th>\n",
       "      <td>Philippines</td>\n",
       "      <td>277496260</td>\n",
       "      <td>2017</td>\n",
       "      <td>Cigarettes containing tobacco</td>\n",
       "      <td>Export</td>\n",
       "      <td>122726754</td>\n",
       "      <td>15951575</td>\n",
       "    </tr>\n",
       "  </tbody>\n",
       "</table>\n",
       "</div>"
      ],
      "text/plain": [
       "  Country_Area  usd_2017  Year  \\\n",
       "0  Philippines 277496260  2017   \n",
       "1  Philippines 277496260  2017   \n",
       "2  Philippines 277496260  2017   \n",
       "3  Philippines 277496260  2017   \n",
       "4  Philippines 277496260  2017   \n",
       "\n",
       "                                             Commodity    Flow       USD  \\\n",
       "0     Tobacco, unmanufactured, not stemmed or stripped  Export  12625948   \n",
       "1         Tobacco, unmanufactured, stemmed or stripped  Export  80555506   \n",
       "2                                       Tobacco refuse  Export   7274059   \n",
       "3  Cigars, cheroots and cigarillos, containing tobacco  Export    484461   \n",
       "4                        Cigarettes containing tobacco  Export 122726754   \n",
       "\n",
       "    Weight  \n",
       "0  3173914  \n",
       "1 51051988  \n",
       "2  5229190  \n",
       "3    37614  \n",
       "4 15951575  "
      ]
     },
     "execution_count": 22,
     "metadata": {},
     "output_type": "execute_result"
    }
   ],
   "source": [
    "test = pd.merge(top20_usd17, df_2017, on='Country_Area')\n",
    "test.head()\n",
    "#test.groupby('Country_Area').USD.plot(kind='bar',stacked=True)"
   ]
  },
  {
   "cell_type": "code",
   "execution_count": 23,
   "metadata": {},
   "outputs": [
    {
     "data": {
      "text/html": [
       "<div>\n",
       "<style scoped>\n",
       "    .dataframe tbody tr th:only-of-type {\n",
       "        vertical-align: middle;\n",
       "    }\n",
       "\n",
       "    .dataframe tbody tr th {\n",
       "        vertical-align: top;\n",
       "    }\n",
       "\n",
       "    .dataframe thead th {\n",
       "        text-align: right;\n",
       "    }\n",
       "</style>\n",
       "<table border=\"1\" class=\"dataframe\">\n",
       "  <thead>\n",
       "    <tr style=\"text-align: right;\">\n",
       "      <th></th>\n",
       "      <th>Country_Area</th>\n",
       "      <th>Commodity</th>\n",
       "      <th>USD</th>\n",
       "    </tr>\n",
       "  </thead>\n",
       "  <tbody>\n",
       "    <tr>\n",
       "      <th>0</th>\n",
       "      <td>Philippines</td>\n",
       "      <td>Tobacco, unmanufactured, not stemmed or stripped</td>\n",
       "      <td>12625948</td>\n",
       "    </tr>\n",
       "    <tr>\n",
       "      <th>1</th>\n",
       "      <td>Philippines</td>\n",
       "      <td>Tobacco, unmanufactured, stemmed or stripped</td>\n",
       "      <td>80555506</td>\n",
       "    </tr>\n",
       "    <tr>\n",
       "      <th>2</th>\n",
       "      <td>Philippines</td>\n",
       "      <td>Tobacco refuse</td>\n",
       "      <td>7274059</td>\n",
       "    </tr>\n",
       "    <tr>\n",
       "      <th>3</th>\n",
       "      <td>Philippines</td>\n",
       "      <td>Cigars, cheroots and cigarillos, containing tobacco</td>\n",
       "      <td>484461</td>\n",
       "    </tr>\n",
       "    <tr>\n",
       "      <th>4</th>\n",
       "      <td>Philippines</td>\n",
       "      <td>Cigarettes containing tobacco</td>\n",
       "      <td>122726754</td>\n",
       "    </tr>\n",
       "  </tbody>\n",
       "</table>\n",
       "</div>"
      ],
      "text/plain": [
       "  Country_Area                                            Commodity       USD\n",
       "0  Philippines     Tobacco, unmanufactured, not stemmed or stripped  12625948\n",
       "1  Philippines         Tobacco, unmanufactured, stemmed or stripped  80555506\n",
       "2  Philippines                                       Tobacco refuse   7274059\n",
       "3  Philippines  Cigars, cheroots and cigarillos, containing tobacco    484461\n",
       "4  Philippines                        Cigarettes containing tobacco 122726754"
      ]
     },
     "execution_count": 23,
     "metadata": {},
     "output_type": "execute_result"
    }
   ],
   "source": [
    "test_1 = test[['Country_Area', 'Commodity', 'USD']]\n",
    "test_1.head()"
   ]
  },
  {
   "cell_type": "code",
   "execution_count": 24,
   "metadata": {},
   "outputs": [],
   "source": [
    "#test_1.to_csv(\"test_1.csv\", index=False)"
   ]
  },
  {
   "cell_type": "code",
   "execution_count": 56,
   "metadata": {},
   "outputs": [
    {
     "data": {
      "text/html": [
       "<div>\n",
       "<style scoped>\n",
       "    .dataframe tbody tr th:only-of-type {\n",
       "        vertical-align: middle;\n",
       "    }\n",
       "\n",
       "    .dataframe tbody tr th {\n",
       "        vertical-align: top;\n",
       "    }\n",
       "\n",
       "    .dataframe thead th {\n",
       "        text-align: right;\n",
       "    }\n",
       "</style>\n",
       "<table border=\"1\" class=\"dataframe\">\n",
       "  <thead>\n",
       "    <tr style=\"text-align: right;\">\n",
       "      <th>Commodity</th>\n",
       "      <th>Country_Area</th>\n",
       "      <th>Cigarette or pipe tobacco and tobacco substitute mixe</th>\n",
       "      <th>Cigarettes containing tobacco</th>\n",
       "      <th>Cigars, cheroots and cigarillos, containing tobacco</th>\n",
       "      <th>Cigars, cheroots, cigarettes, with tobacco substitute</th>\n",
       "      <th>Homogenized or reconstituted tobacco</th>\n",
       "      <th>Products of tobacco, substitute nes, extract, essence</th>\n",
       "      <th>Tobacco refuse</th>\n",
       "      <th>Tobacco, unmanufactured, not stemmed or stripped</th>\n",
       "      <th>Tobacco, unmanufactured, stemmed or stripped</th>\n",
       "      <th>total</th>\n",
       "    </tr>\n",
       "  </thead>\n",
       "  <tbody>\n",
       "    <tr>\n",
       "      <th>0</th>\n",
       "      <td>Argentina</td>\n",
       "      <td>4835192</td>\n",
       "      <td>14169754</td>\n",
       "      <td>3384</td>\n",
       "      <td>0</td>\n",
       "      <td>2668</td>\n",
       "      <td>35500</td>\n",
       "      <td>10458316</td>\n",
       "      <td>5629831</td>\n",
       "      <td>287135184</td>\n",
       "      <td>322269830</td>\n",
       "    </tr>\n",
       "  </tbody>\n",
       "</table>\n",
       "</div>"
      ],
      "text/plain": [
       "Commodity Country_Area  Cigarette or pipe tobacco and tobacco substitute mixe  \\\n",
       "0            Argentina                                                4835192   \n",
       "\n",
       "Commodity  Cigarettes containing tobacco  \\\n",
       "0                               14169754   \n",
       "\n",
       "Commodity  Cigars, cheroots and cigarillos, containing tobacco  \\\n",
       "0                                                         3384   \n",
       "\n",
       "Commodity  Cigars, cheroots, cigarettes, with tobacco substitute  \\\n",
       "0                                                              0   \n",
       "\n",
       "Commodity  Homogenized or reconstituted tobacco  \\\n",
       "0                                          2668   \n",
       "\n",
       "Commodity  Products of tobacco, substitute nes, extract, essence  \\\n",
       "0                                                          35500   \n",
       "\n",
       "Commodity  Tobacco refuse  Tobacco, unmanufactured, not stemmed or stripped  \\\n",
       "0                10458316                                           5629831   \n",
       "\n",
       "Commodity  Tobacco, unmanufactured, stemmed or stripped     total  \n",
       "0                                             287135184 322269830  "
      ]
     },
     "execution_count": 56,
     "metadata": {},
     "output_type": "execute_result"
    }
   ],
   "source": [
    "by_commodity = test_1.groupby(['Country_Area','Commodity']).USD.median().unstack().reset_index().fillna(0)\n",
    "by_commodity['total'] = by_commodity.sum(axis=1)\n",
    "by_commodity.head(1)"
   ]
  },
  {
   "cell_type": "code",
   "execution_count": 57,
   "metadata": {},
   "outputs": [
    {
     "data": {
      "text/html": [
       "<div>\n",
       "<style scoped>\n",
       "    .dataframe tbody tr th:only-of-type {\n",
       "        vertical-align: middle;\n",
       "    }\n",
       "\n",
       "    .dataframe tbody tr th {\n",
       "        vertical-align: top;\n",
       "    }\n",
       "\n",
       "    .dataframe thead th {\n",
       "        text-align: right;\n",
       "    }\n",
       "</style>\n",
       "<table border=\"1\" class=\"dataframe\">\n",
       "  <thead>\n",
       "    <tr style=\"text-align: right;\">\n",
       "      <th>Commodity</th>\n",
       "      <th>Country_Area</th>\n",
       "      <th>Cigarette or pipe tobacco and tobacco substitute mixe</th>\n",
       "      <th>Cigarettes containing tobacco</th>\n",
       "      <th>Cigars, cheroots and cigarillos, containing tobacco</th>\n",
       "      <th>Cigars, cheroots, cigarettes, with tobacco substitute</th>\n",
       "      <th>Homogenized or reconstituted tobacco</th>\n",
       "      <th>Products of tobacco, substitute nes, extract, essence</th>\n",
       "      <th>Tobacco refuse</th>\n",
       "      <th>Tobacco, unmanufactured, not stemmed or stripped</th>\n",
       "      <th>Tobacco, unmanufactured, stemmed or stripped</th>\n",
       "      <th>total</th>\n",
       "    </tr>\n",
       "  </thead>\n",
       "  <tbody>\n",
       "    <tr>\n",
       "      <th>10</th>\n",
       "      <td>Philippines</td>\n",
       "      <td>5765834</td>\n",
       "      <td>122726754</td>\n",
       "      <td>484461</td>\n",
       "      <td>1449601</td>\n",
       "      <td>38192466</td>\n",
       "      <td>8421631</td>\n",
       "      <td>7274059</td>\n",
       "      <td>12625948</td>\n",
       "      <td>80555506</td>\n",
       "      <td>277496260</td>\n",
       "    </tr>\n",
       "  </tbody>\n",
       "</table>\n",
       "</div>"
      ],
      "text/plain": [
       "Commodity Country_Area  Cigarette or pipe tobacco and tobacco substitute mixe  \\\n",
       "10         Philippines                                                5765834   \n",
       "\n",
       "Commodity  Cigarettes containing tobacco  \\\n",
       "10                             122726754   \n",
       "\n",
       "Commodity  Cigars, cheroots and cigarillos, containing tobacco  \\\n",
       "10                                                      484461   \n",
       "\n",
       "Commodity  Cigars, cheroots, cigarettes, with tobacco substitute  \\\n",
       "10                                                       1449601   \n",
       "\n",
       "Commodity  Homogenized or reconstituted tobacco  \\\n",
       "10                                     38192466   \n",
       "\n",
       "Commodity  Products of tobacco, substitute nes, extract, essence  \\\n",
       "10                                                       8421631   \n",
       "\n",
       "Commodity  Tobacco refuse  Tobacco, unmanufactured, not stemmed or stripped  \\\n",
       "10                7274059                                          12625948   \n",
       "\n",
       "Commodity  Tobacco, unmanufactured, stemmed or stripped     total  \n",
       "10                                             80555506 277496260  "
      ]
     },
     "execution_count": 57,
     "metadata": {},
     "output_type": "execute_result"
    }
   ],
   "source": [
    "by_commodity.sort_values(by='total',inplace=True)\n",
    "by_commodity.head(1)"
   ]
  },
  {
   "cell_type": "code",
   "execution_count": 58,
   "metadata": {},
   "outputs": [
    {
     "data": {
      "text/html": [
       "<div>\n",
       "<style scoped>\n",
       "    .dataframe tbody tr th:only-of-type {\n",
       "        vertical-align: middle;\n",
       "    }\n",
       "\n",
       "    .dataframe tbody tr th {\n",
       "        vertical-align: top;\n",
       "    }\n",
       "\n",
       "    .dataframe thead th {\n",
       "        text-align: right;\n",
       "    }\n",
       "</style>\n",
       "<table border=\"1\" class=\"dataframe\">\n",
       "  <thead>\n",
       "    <tr style=\"text-align: right;\">\n",
       "      <th>Commodity</th>\n",
       "      <th>Country_Area</th>\n",
       "      <th>Cigarette or pipe tobacco and tobacco substitute mixe</th>\n",
       "      <th>Cigarettes containing tobacco</th>\n",
       "      <th>Cigars, cheroots and cigarillos, containing tobacco</th>\n",
       "      <th>Cigars, cheroots, cigarettes, with tobacco substitute</th>\n",
       "      <th>Homogenized or reconstituted tobacco</th>\n",
       "      <th>Products of tobacco, substitute nes, extract, essence</th>\n",
       "      <th>Tobacco refuse</th>\n",
       "      <th>Tobacco, unmanufactured, not stemmed or stripped</th>\n",
       "      <th>Tobacco, unmanufactured, stemmed or stripped</th>\n",
       "    </tr>\n",
       "  </thead>\n",
       "  <tbody>\n",
       "    <tr>\n",
       "      <th>10</th>\n",
       "      <td>Philippines</td>\n",
       "      <td>5765834</td>\n",
       "      <td>122726754</td>\n",
       "      <td>484461</td>\n",
       "      <td>1449601</td>\n",
       "      <td>38192466</td>\n",
       "      <td>8421631</td>\n",
       "      <td>7274059</td>\n",
       "      <td>12625948</td>\n",
       "      <td>80555506</td>\n",
       "    </tr>\n",
       "  </tbody>\n",
       "</table>\n",
       "</div>"
      ],
      "text/plain": [
       "Commodity Country_Area  Cigarette or pipe tobacco and tobacco substitute mixe  \\\n",
       "10         Philippines                                                5765834   \n",
       "\n",
       "Commodity  Cigarettes containing tobacco  \\\n",
       "10                             122726754   \n",
       "\n",
       "Commodity  Cigars, cheroots and cigarillos, containing tobacco  \\\n",
       "10                                                      484461   \n",
       "\n",
       "Commodity  Cigars, cheroots, cigarettes, with tobacco substitute  \\\n",
       "10                                                       1449601   \n",
       "\n",
       "Commodity  Homogenized or reconstituted tobacco  \\\n",
       "10                                     38192466   \n",
       "\n",
       "Commodity  Products of tobacco, substitute nes, extract, essence  \\\n",
       "10                                                       8421631   \n",
       "\n",
       "Commodity  Tobacco refuse  Tobacco, unmanufactured, not stemmed or stripped  \\\n",
       "10                7274059                                          12625948   \n",
       "\n",
       "Commodity  Tobacco, unmanufactured, stemmed or stripped  \n",
       "10                                             80555506  "
      ]
     },
     "execution_count": 58,
     "metadata": {},
     "output_type": "execute_result"
    }
   ],
   "source": [
    "by_commodity.drop(columns='total',inplace=True)\n",
    "by_commodity.head(1)"
   ]
  },
  {
   "cell_type": "code",
   "execution_count": 59,
   "metadata": {},
   "outputs": [
    {
     "data": {
      "text/plain": [
       "<matplotlib.axes._subplots.AxesSubplot at 0x28a1293ef28>"
      ]
     },
     "execution_count": 59,
     "metadata": {},
     "output_type": "execute_result"
    },
    {
     "data": {
      "image/png": "[encoded data removed]",
      "text/plain": [
       "<Figure size 432x288 with 1 Axes>"
      ]
     },
     "metadata": {},
     "output_type": "display_data"
    }
   ],
   "source": [
    "by_commodity.plot(kind='barh',x='Country_Area', stacked=True)"
   ]
  },
  {
   "cell_type": "code",
   "execution_count": 30,
   "metadata": {},
   "outputs": [],
   "source": [
    "# test_1.pivot(index='Commodity',columns='Country_Area',values='USD')\n",
    "# test_1"
   ]
  },
  {
   "cell_type": "code",
   "execution_count": 31,
   "metadata": {},
   "outputs": [],
   "source": [
    "# test_1.pivot(index='Country_Area',columns='Commodity',values='USD')\n",
    "# test_1"
   ]
  },
  {
   "cell_type": "code",
   "execution_count": 32,
   "metadata": {},
   "outputs": [],
   "source": [
    "#long_df.pivot(index='year', columns='continent', values='visas').head()"
   ]
  },
  {
   "cell_type": "code",
   "execution_count": 33,
   "metadata": {},
   "outputs": [],
   "source": [
    "# by_commodity = test.groupby('Country_Area').Commodity.value_counts().sort_index(ascending=False).unstack().reset_index().fillna(0)\n",
    "# by_commodity.head()"
   ]
  },
  {
   "cell_type": "code",
   "execution_count": 34,
   "metadata": {},
   "outputs": [
    {
     "data": {
      "text/plain": [
       "Tobacco, unmanufactured, stemmed or stripped             23\n",
       "Cigarette or pipe tobacco and tobacco substitute mixe    22\n",
       "Cigarettes containing tobacco                            22\n",
       "Products of tobacco, substitute nes, extract, essence    21\n",
       "Cigars, cheroots and cigarillos, containing tobacco      21\n",
       "Tobacco refuse                                           20\n",
       "Tobacco, unmanufactured, not stemmed or stripped         19\n",
       "Homogenized or reconstituted tobacco                     15\n",
       "Cigars, cheroots, cigarettes, with tobacco substitute    14\n",
       "Name: Commodity, dtype: int64"
      ]
     },
     "execution_count": 34,
     "metadata": {},
     "output_type": "execute_result"
    }
   ],
   "source": [
    "test.Commodity.value_counts()"
   ]
  },
  {
   "cell_type": "code",
   "execution_count": 36,
   "metadata": {},
   "outputs": [],
   "source": [
    "#test.groupby('Country_Area').Commodity.value_counts()"
   ]
  },
  {
   "cell_type": "code",
   "execution_count": 37,
   "metadata": {},
   "outputs": [],
   "source": [
    "#test[test['Commodity'] == 'Cigarette or pipe tobacco and tobacco substitute mixe']"
   ]
  },
  {
   "cell_type": "code",
   "execution_count": 38,
   "metadata": {},
   "outputs": [],
   "source": [
    "# import numpy as np\n",
    "# from matplotlib import rc\n"
   ]
  },
  {
   "cell_type": "code",
   "execution_count": 39,
   "metadata": {},
   "outputs": [],
   "source": [
    "# rc('font', weight='bold')"
   ]
  },
  {
   "cell_type": "code",
   "execution_count": 40,
   "metadata": {},
   "outputs": [],
   "source": [
    "# # Values of each group\n",
    "# bars1 = [47142234, 28146464,100581600]\n",
    "# bars2 = [3077966524\t, 2883306103, 870849084]\n",
    "# bars3 = [697079619, 339323740, 67197135]\n",
    "# #bars4 = []"
   ]
  },
  {
   "cell_type": "code",
   "execution_count": 43,
   "metadata": {},
   "outputs": [],
   "source": [
    "# # Heights of bars1 + bars2 (TO DO better)\n",
    "# bars = [40, 35, 17] #, 12, 32]\n",
    " \n",
    "# # The position of the bars on the x-axis\n",
    "# r = [0,1,2,3] #,4]\n",
    " \n",
    "# # Names of group and bar width\n",
    "# names = ['A','B','C','D'] #,'E']\n",
    "# barWidth = 1\n"
   ]
  },
  {
   "cell_type": "code",
   "execution_count": 44,
   "metadata": {},
   "outputs": [],
   "source": [
    "# # Create brown bars\n",
    "# plt.bar(r, bars1, color='#7f6d5f', edgecolor='white', width=barWidth)\n",
    "# # Create green bars (middle), on top of the firs ones\n",
    "# plt.bar(r, bars2, bottom=bars1, color='#557f2d', edgecolor='white', width=barWidth)\n",
    "# # Create green bars (top)\n",
    "# plt.bar(r, bars3, bottom=bars, color='#2d7f5e', edgecolor='white', width=barWidth)\n",
    " \n",
    "# # Custom X axis\n",
    "# plt.xticks(r, names, fontweight='bold')\n",
    "# plt.xlabel(\"group\")\n",
    " \n",
    "# # Show graphic\n",
    "# plt.show()\n"
   ]
  },
  {
   "cell_type": "code",
   "execution_count": 45,
   "metadata": {},
   "outputs": [],
   "source": [
    "#test.Commodity.value_counts()"
   ]
  },
  {
   "cell_type": "code",
   "execution_count": 46,
   "metadata": {},
   "outputs": [],
   "source": [
    "# test[test['Commodity'] == 'Tobacco, unmanufactured, stemmed or stripped'].USD"
   ]
  },
  {
   "cell_type": "code",
   "execution_count": null,
   "metadata": {},
   "outputs": [],
   "source": []
  },
  {
   "cell_type": "code",
   "execution_count": 47,
   "metadata": {},
   "outputs": [],
   "source": [
    "# ger_com = [47142234, 421106891, 6639470] #, 207915273, 3077966524, 176404, 697079619, 4916856, 56188495]\n",
    "# bars1 = test[test['Commodity'] == 'Tobacco, unmanufactured, stemmed or stripped'].USD"
   ]
  },
  {
   "cell_type": "code",
   "execution_count": 48,
   "metadata": {},
   "outputs": [],
   "source": [
    "# number = 47142234+421106891"
   ]
  },
  {
   "cell_type": "code",
   "execution_count": 49,
   "metadata": {},
   "outputs": [],
   "source": [
    "# # Heights of bars1 + bars2 (TO DO better)\n",
    "# bars = [number] #, 35, 17, 12, 32]\n",
    " \n",
    "# # The position of the bars on the x-axis\n",
    "# r = [0] #,1,2,3,4]\n",
    "\n",
    "# names = ['Germany'] #,'B','C','D','E']\n",
    "# barWidth = 0.03\n",
    "\n",
    "# # Create brown bars\n",
    "# plt.bar(r,47142234 , color='yellow', edgecolor='white', width=barWidth)\n",
    "# # Create green bars (middle), on top of the firs ones\n",
    "# plt.bar(r, 421106891, bottom=47142234, color='blue', edgecolor='white', width=barWidth)\n",
    "# # Create green bars (top)\n",
    "# plt.bar(r, 6639470, bottom=bars, color='#2d7f5e', edgecolor='white', width=barWidth)\n",
    " \n",
    "# # Custom X axis\n",
    "# plt.xticks(r, names, fontweight='bold')\n",
    "# plt.xlabel(\"group\")\n",
    " \n",
    "# # Show graphic\n",
    "# plt.show()\n",
    "\n",
    "\n"
   ]
  },
  {
   "cell_type": "code",
   "execution_count": 50,
   "metadata": {},
   "outputs": [],
   "source": [
    "# by_commodity = test.groupby('Country_Area').Commodity.value_counts().unstack().reset_index().fillna(0)\n",
    "# by_commodity"
   ]
  },
  {
   "cell_type": "code",
   "execution_count": 51,
   "metadata": {},
   "outputs": [],
   "source": [
    "# ger = test[test['Country_Area'] == 'Germany']\n",
    "# ger.plot"
   ]
  },
  {
   "cell_type": "code",
   "execution_count": 28,
   "metadata": {},
   "outputs": [],
   "source": [
    "#colors = ['#423525','#AA552E','#586923','#AF0714','#86909A','#B08F70']"
   ]
  },
  {
   "cell_type": "code",
   "execution_count": 88,
   "metadata": {},
   "outputs": [
    {
     "data": {
      "image/png": "[encoded data removed]",
      "text/plain": [
       "<Figure size 1000x500 with 1 Axes>"
      ]
     },
     "metadata": {},
     "output_type": "display_data"
    }
   ],
   "source": [
    "#color = plt.rcParams['axes.prop_cycle'].by_key()['color'][0]\n",
    "\n",
    "def color(country):\n",
    "    if country == 'Germany':\n",
    "        return '#AF0714'\n",
    "    else:\n",
    "        return '#86909A'\n",
    "    \n",
    "bar_colors = [color(country) for country in top20_usd17.Country_Area]\n",
    "\n",
    "\n",
    "# STEP ONE: Build a function\n",
    "# it should take value and pos\n",
    "def with_words(value, pos):\n",
    "    billions = int(value / 1000000000)\n",
    "    if billions == 5:\n",
    "        return \"{} billions\".format(billions)\n",
    "    else: \n",
    "        return \"{}\".format(billions)\n",
    "\n",
    "# # STEP TWO: Use FuncFormatter with that function???\n",
    "formatter = FuncFormatter(with_words)\n",
    "\n",
    "# ax = world.plot(x='city', y='people', kind='bar')\n",
    "\n",
    "# # STEP THREE: Give the axis your formatter\n",
    "# ax.yaxis.set_major_formatter(formatter)\n",
    "\n",
    "\n",
    "ax = top20_usd17.plot(kind='barh', x='Country_Area', y='usd_2017',figsize=(10, 5),color=bar_colors)\n",
    "ax.xaxis.set_major_formatter(formatter)\n",
    "\n",
    "#,'#AA552E','#586923','#AF0714','#86909A','#B08F70\n",
    "# CUSTOMIZATION CODE GOES UNDER HERE\n",
    "\n",
    "ax.set_xlabel('something',fontsize=12,fontname=\"Leelawadee UI\")\n",
    "ax.set_ylabel('something',fontsize=12,fontname=\"Leelawadee UI\")\n",
    "ax.axes.labelpad: 4.0\n",
    "ax.xaxis.label.set_visible(False)\n",
    "ax.yaxis.label.set_visible(False)\n",
    "# ax.spines['top'].set_visible(False)\n",
    "# ax.spines['left'].set_visible(False)\n",
    "# ax.spines['bottom'].set_visible(True)\n",
    "# ax.spines['right'].set_visible(False)\n",
    "# ax.set_xticks([0,1,2,3,4,5])\n",
    "# ax.set_xticklabels(['0','','1','','2','','3','','5 billion USD'],color='#646C6F')\n",
    "ax.set_xlim(0,5000000000)\n",
    "\n",
    "title_string = \"This is the title\"\n",
    "subtitle_string = \"This is the subtitle\"\n",
    "plt.suptitle(title_string, y=1, x=0.14, fontsize=16,color='black')\n",
    "plt.title(subtitle_string, y=1.02, x=0.01, fontsize=11)\n",
    "\n",
    "plt.rcdefaults()\n",
    "plt.rcParams.update({\n",
    "    #ERROR: 'NameError: name 'cycler' is not defined'\n",
    "    'axes.prop_cycle': cycler('color', ['#423525', 'yellow', 'blue']),\n",
    "    'axes.facecolor': '#FEF7F1',\n",
    "    'savefig.facecolor': '#FEF7F1',\n",
    "    'figure.facecolor': '#FEF7F1',\n",
    "    'axes.spines.left': True,\n",
    "    'axes.spines.bottom': True,\n",
    "    'axes.spines.top': False,\n",
    "    'axes.spines.right': False,\n",
    "    #'axes.grid':True\n",
    "#   'grid.color':'#ffffff',\n",
    "#   'grid.linewidth':2,\n",
    "#    'grid.alpha':0.6,\n",
    "    'xtick.top': False,\n",
    "    'xtick.bottom': True,\n",
    "    'xtick.color': '#646C6F',\n",
    "    'ytick.color':'#646C6F',\n",
    "    #'ytick.bottom': True,\n",
    "    #'ytick.color': 'black'\n",
    "    #'xtick.major.size': 7,\n",
    "    #'xtick.major.width': 3,\n",
    "    #'xtick.major.pad': 0,\n",
    "    #'xtick.direction': 'in',\n",
    "    'xtick.labelsize': 'small',\n",
    "    'ytick.labelsize': 'small',\n",
    "    'legend.loc': 'best',\n",
    "    'legend.frameon': False,\n",
    "    'legend.fontsize': 'small',\n",
    "    'legend.handlelength': 0.5,\n",
    "    'legend.handleheight': 0.5,\n",
    "    #'legend.columnspacing': 2.0,\n",
    "    'font.family': 'Segoe UI Symbol',\n",
    "    'font.size':12,\n",
    "    'text.color':'#646C6F'\n",
    "     })\n",
    "\n",
    "# ax.set_xlabel('GDP per capita',fontsize=12,fontname=\"Leelawadee UI\")\n",
    "# ax.set_ylabel('Life expectancy',fontsize=12,fontname=\"Leelawadee UI\")\n",
    "# ax.axes.labelpad: 4.0\n",
    "\n",
    "ax.tick_params(axis='y',left=False)\n",
    "\n",
    "# then we save it\n",
    "# plt.savefig(\"personal-graph-bar-one-color.pdf\")\n",
    "plt.show()"
   ]
  },
  {
   "cell_type": "code",
   "execution_count": 63,
   "metadata": {},
   "outputs": [],
   "source": [
    "#top20_usd17.plot(kind='barh')"
   ]
  },
  {
   "cell_type": "code",
   "execution_count": null,
   "metadata": {},
   "outputs": [],
   "source": []
  },
  {
   "cell_type": "code",
   "execution_count": 64,
   "metadata": {},
   "outputs": [
    {
     "data": {
      "text/html": [
       "<div>\n",
       "<style scoped>\n",
       "    .dataframe tbody tr th:only-of-type {\n",
       "        vertical-align: middle;\n",
       "    }\n",
       "\n",
       "    .dataframe tbody tr th {\n",
       "        vertical-align: top;\n",
       "    }\n",
       "\n",
       "    .dataframe thead th {\n",
       "        text-align: right;\n",
       "    }\n",
       "</style>\n",
       "<table border=\"1\" class=\"dataframe\">\n",
       "  <thead>\n",
       "    <tr style=\"text-align: right;\">\n",
       "      <th></th>\n",
       "      <th>Country_Area</th>\n",
       "      <th>weight_2017</th>\n",
       "    </tr>\n",
       "  </thead>\n",
       "  <tbody>\n",
       "    <tr>\n",
       "      <th>40</th>\n",
       "      <td>Portugal</td>\n",
       "      <td>32197892</td>\n",
       "    </tr>\n",
       "    <tr>\n",
       "      <th>51</th>\n",
       "      <td>Switzerland</td>\n",
       "      <td>32666254</td>\n",
       "    </tr>\n",
       "    <tr>\n",
       "      <th>31</th>\n",
       "      <td>Malaysia</td>\n",
       "      <td>35984560</td>\n",
       "    </tr>\n",
       "    <tr>\n",
       "      <th>30</th>\n",
       "      <td>Lithuania</td>\n",
       "      <td>37361463</td>\n",
       "    </tr>\n",
       "    <tr>\n",
       "      <th>7</th>\n",
       "      <td>Bulgaria</td>\n",
       "      <td>41889947</td>\n",
       "    </tr>\n",
       "  </tbody>\n",
       "</table>\n",
       "</div>"
      ],
      "text/plain": [
       "   Country_Area  weight_2017\n",
       "40     Portugal     32197892\n",
       "51  Switzerland     32666254\n",
       "31     Malaysia     35984560\n",
       "30    Lithuania     37361463\n",
       "7      Bulgaria     41889947"
      ]
     },
     "execution_count": 64,
     "metadata": {},
     "output_type": "execute_result"
    }
   ],
   "source": [
    "weight_2017 = df_2017.groupby('Country_Area')['Weight'].sum().reset_index(name='weight_2017')\n",
    "top20_weight17 = weight_2017.sort_values(by='weight_2017',ascending=True).tail(20)\n",
    "top20_weight17.head()"
   ]
  },
  {
   "cell_type": "code",
   "execution_count": 65,
   "metadata": {},
   "outputs": [
    {
     "data": {
      "text/html": [
       "<div>\n",
       "<style scoped>\n",
       "    .dataframe tbody tr th:only-of-type {\n",
       "        vertical-align: middle;\n",
       "    }\n",
       "\n",
       "    .dataframe tbody tr th {\n",
       "        vertical-align: top;\n",
       "    }\n",
       "\n",
       "    .dataframe thead th {\n",
       "        text-align: right;\n",
       "    }\n",
       "</style>\n",
       "<table border=\"1\" class=\"dataframe\">\n",
       "  <thead>\n",
       "    <tr style=\"text-align: right;\">\n",
       "      <th></th>\n",
       "      <th>Country_Area</th>\n",
       "      <th>usd_2017</th>\n",
       "      <th>weight_2017</th>\n",
       "    </tr>\n",
       "  </thead>\n",
       "  <tbody>\n",
       "    <tr>\n",
       "      <th>0</th>\n",
       "      <td>Philippines</td>\n",
       "      <td>277496260</td>\n",
       "      <td>85363016</td>\n",
       "    </tr>\n",
       "    <tr>\n",
       "      <th>1</th>\n",
       "      <td>Bulgaria</td>\n",
       "      <td>292856146</td>\n",
       "      <td>41889947</td>\n",
       "    </tr>\n",
       "    <tr>\n",
       "      <th>2</th>\n",
       "      <td>Argentina</td>\n",
       "      <td>322269830</td>\n",
       "      <td>86333393</td>\n",
       "    </tr>\n",
       "    <tr>\n",
       "      <th>3</th>\n",
       "      <td>Ukraine</td>\n",
       "      <td>355730145</td>\n",
       "      <td>43353839</td>\n",
       "    </tr>\n",
       "    <tr>\n",
       "      <th>4</th>\n",
       "      <td>Switzerland</td>\n",
       "      <td>548545303</td>\n",
       "      <td>32666254</td>\n",
       "    </tr>\n",
       "  </tbody>\n",
       "</table>\n",
       "</div>"
      ],
      "text/plain": [
       "  Country_Area  usd_2017  weight_2017\n",
       "0  Philippines 277496260     85363016\n",
       "1     Bulgaria 292856146     41889947\n",
       "2    Argentina 322269830     86333393\n",
       "3      Ukraine 355730145     43353839\n",
       "4  Switzerland 548545303     32666254"
      ]
     },
     "execution_count": 65,
     "metadata": {},
     "output_type": "execute_result"
    }
   ],
   "source": [
    "merge = pd.merge(top20_usd17,weight_2017,on='Country_Area')\n",
    "merge.head()"
   ]
  },
  {
   "cell_type": "code",
   "execution_count": 89,
   "metadata": {},
   "outputs": [
    {
     "data": {
      "text/plain": [
       "Country_Area\n",
       "Argentina               AxesSubplot(0.125,0.11;0.775x0.77)\n",
       "Belgium                 AxesSubplot(0.125,0.11;0.775x0.77)\n",
       "Brazil                  AxesSubplot(0.125,0.11;0.775x0.77)\n",
       "Bulgaria                AxesSubplot(0.125,0.11;0.775x0.77)\n",
       "China, Hong Kong SAR    AxesSubplot(0.125,0.11;0.775x0.77)\n",
       "Germany                 AxesSubplot(0.125,0.11;0.775x0.77)\n",
       "India                   AxesSubplot(0.125,0.11;0.775x0.77)\n",
       "Indonesia               AxesSubplot(0.125,0.11;0.775x0.77)\n",
       "Italy                   AxesSubplot(0.125,0.11;0.775x0.77)\n",
       "Lithuania               AxesSubplot(0.125,0.11;0.775x0.77)\n",
       "Philippines             AxesSubplot(0.125,0.11;0.775x0.77)\n",
       "Poland                  AxesSubplot(0.125,0.11;0.775x0.77)\n",
       "Portugal                AxesSubplot(0.125,0.11;0.775x0.77)\n",
       "Rep. of Korea           AxesSubplot(0.125,0.11;0.775x0.77)\n",
       "Romania                 AxesSubplot(0.125,0.11;0.775x0.77)\n",
       "Russian Federation      AxesSubplot(0.125,0.11;0.775x0.77)\n",
       "Switzerland             AxesSubplot(0.125,0.11;0.775x0.77)\n",
       "Turkey                  AxesSubplot(0.125,0.11;0.775x0.77)\n",
       "USA                     AxesSubplot(0.125,0.11;0.775x0.77)\n",
       "Ukraine                 AxesSubplot(0.125,0.11;0.775x0.77)\n",
       "dtype: object"
      ]
     },
     "execution_count": 89,
     "metadata": {},
     "output_type": "execute_result"
    },
    {
     "data": {
      "image/png": "[encoded data removed]",
      "text/plain": [
       "<Figure size 800x600 with 1 Axes>"
      ]
     },
     "metadata": {},
     "output_type": "display_data"
    }
   ],
   "source": [
    "# fig, ax = plt.subplots(figsize=(8, 6))\n",
    "\n",
    "# colors = list(reversed(plt.rcParams['axes.prop_cycle'].by_key()['color']))\n",
    "\n",
    "# merge.groupby('Country_Area').plot(kind='scatter', x='usd_2017', y='weight_2017', color=colors.pop(), s=20, ax=ax, alpha=0.75)\n",
    "#ax.legend_.remove()\n",
    "plt.rcdefaults()\n",
    "plt.rcParams.update({\n",
    "    'axes.prop_cycle': cycler('color', ['#423525','#AA552E','#586923','#AF0714','#86909A','#B08F70']),\n",
    "    'axes.facecolor': '#FEF7F1',\n",
    "    'savefig.facecolor': '#F8E6DA',\n",
    "    #'#F8E6DA',\n",
    "    'figure.facecolor': '#F8E6DA',\n",
    "    'axes.spines.left': True,\n",
    "    'axes.spines.bottom': True,\n",
    "    'axes.spines.top': False,\n",
    "    'axes.spines.right': False,\n",
    "#     'axes.grid':True\n",
    "#     'grid.color':'#ffffff',\n",
    "#     'grid.linewidth':2,\n",
    "#     'grid.alpha':0.6,\n",
    "    'xtick.top': False,\n",
    "    'xtick.bottom': True,\n",
    "    'xtick.color': '#646C6F',\n",
    "    'ytick.color':'#646C6F',\n",
    "    #'ytick.bottom': True,\n",
    "    #'ytick.color': 'black'\n",
    "    #'xtick.major.size': 7,\n",
    "    #'xtick.major.width': 3,\n",
    "    #'xtick.major.pad': 0,\n",
    "    #'xtick.direction': 'in',\n",
    "    'xtick.labelsize': 'small',\n",
    "    'ytick.labelsize': 'small',\n",
    "    #'legend.loc': 'best',\n",
    "    #'legend.frameon': False,\n",
    "    #'legend.columnspacing': 2.0,\n",
    "    'font.family': 'Segoe UI Symbol',\n",
    "    'font.size':12,\n",
    "    'text.color':'#646C6F'\n",
    "     })\n",
    "\n",
    "# fig, ax = plt.subplots(figsize=(8, 6))\n",
    "\n",
    "# # Don't touch this part of the code!\n",
    "# colors = list(reversed(plt.rcParams['axes.prop_cycle'].by_key()['color']))\n",
    "\n",
    "# groups = df.groupby('continent')\n",
    "# for name, group in groups:\n",
    "#     group.plot(kind='scatter', x='gdp_per_capita', y='life_expectancy', color=colors.pop(), label=name, s= 5 + (group.population / 200000), ax=ax, alpha=0.75)\n",
    "\n",
    "fig, ax = plt.subplots(figsize=(8, 6))\n",
    "\n",
    "colors = list(reversed(plt.rcParams['axes.prop_cycle'].by_key()['color']))\n",
    "\n",
    "merge.groupby('Country_Area').plot(kind='scatter', x='usd_2017', y='weight_2017', color=colors.pop(), s=5, ax=ax, alpha=0.75)\n",
    "\n",
    "\n",
    "#merge.groupby('Country_Area').plot(kind='scatter',x='usd_2017',y='weight_2017')"
   ]
  },
  {
   "cell_type": "code",
   "execution_count": 67,
   "metadata": {},
   "outputs": [],
   "source": [
    "#merge.groupby('Country_Area').plot(kind='scatter',x='usd_2017',y='weight_2017'"
   ]
  },
  {
   "cell_type": "code",
   "execution_count": null,
   "metadata": {},
   "outputs": [],
   "source": []
  },
  {
   "cell_type": "code",
   "execution_count": 68,
   "metadata": {},
   "outputs": [
    {
     "data": {
      "text/plain": [
       "2735257753.456167"
      ]
     },
     "execution_count": 68,
     "metadata": {},
     "output_type": "execute_result"
    }
   ],
   "source": [
    "df_2017.Weight.sum()"
   ]
  },
  {
   "cell_type": "code",
   "execution_count": 69,
   "metadata": {},
   "outputs": [
    {
     "data": {
      "text/html": [
       "<div>\n",
       "<style scoped>\n",
       "    .dataframe tbody tr th:only-of-type {\n",
       "        vertical-align: middle;\n",
       "    }\n",
       "\n",
       "    .dataframe tbody tr th {\n",
       "        vertical-align: top;\n",
       "    }\n",
       "\n",
       "    .dataframe thead th {\n",
       "        text-align: right;\n",
       "    }\n",
       "</style>\n",
       "<table border=\"1\" class=\"dataframe\">\n",
       "  <thead>\n",
       "    <tr style=\"text-align: right;\">\n",
       "      <th></th>\n",
       "      <th>Country_Area</th>\n",
       "      <th>usd_2017</th>\n",
       "      <th>weight_2017</th>\n",
       "      <th>weight_pct</th>\n",
       "    </tr>\n",
       "  </thead>\n",
       "  <tbody>\n",
       "    <tr>\n",
       "      <th>0</th>\n",
       "      <td>Philippines</td>\n",
       "      <td>277496260</td>\n",
       "      <td>85363016</td>\n",
       "      <td>3</td>\n",
       "    </tr>\n",
       "  </tbody>\n",
       "</table>\n",
       "</div>"
      ],
      "text/plain": [
       "  Country_Area  usd_2017  weight_2017  weight_pct\n",
       "0  Philippines 277496260     85363016           3"
      ]
     },
     "execution_count": 69,
     "metadata": {},
     "output_type": "execute_result"
    }
   ],
   "source": [
    "merge['weight_pct'] = (merge['weight_2017']/ df_2017.Weight.sum()) * 100\n",
    "merge.head(1)"
   ]
  },
  {
   "cell_type": "code",
   "execution_count": 70,
   "metadata": {},
   "outputs": [
    {
     "data": {
      "text/html": [
       "<div>\n",
       "<style scoped>\n",
       "    .dataframe tbody tr th:only-of-type {\n",
       "        vertical-align: middle;\n",
       "    }\n",
       "\n",
       "    .dataframe tbody tr th {\n",
       "        vertical-align: top;\n",
       "    }\n",
       "\n",
       "    .dataframe thead th {\n",
       "        text-align: right;\n",
       "    }\n",
       "</style>\n",
       "<table border=\"1\" class=\"dataframe\">\n",
       "  <thead>\n",
       "    <tr style=\"text-align: right;\">\n",
       "      <th></th>\n",
       "      <th>Country_Area</th>\n",
       "      <th>usd_2017</th>\n",
       "      <th>weight_2017</th>\n",
       "      <th>weight_pct</th>\n",
       "      <th>ucd_pct</th>\n",
       "    </tr>\n",
       "  </thead>\n",
       "  <tbody>\n",
       "    <tr>\n",
       "      <th>0</th>\n",
       "      <td>Philippines</td>\n",
       "      <td>277496260</td>\n",
       "      <td>85363016</td>\n",
       "      <td>3</td>\n",
       "      <td>1</td>\n",
       "    </tr>\n",
       "  </tbody>\n",
       "</table>\n",
       "</div>"
      ],
      "text/plain": [
       "  Country_Area  usd_2017  weight_2017  weight_pct  ucd_pct\n",
       "0  Philippines 277496260     85363016           3        1"
      ]
     },
     "execution_count": 70,
     "metadata": {},
     "output_type": "execute_result"
    }
   ],
   "source": [
    "merge['ucd_pct'] = (merge['usd_2017']/ df_2017.USD.sum()) * 100\n",
    "merge.head(1)"
   ]
  },
  {
   "cell_type": "code",
   "execution_count": 74,
   "metadata": {},
   "outputs": [
    {
     "data": {
      "text/html": [
       "<div>\n",
       "<style scoped>\n",
       "    .dataframe tbody tr th:only-of-type {\n",
       "        vertical-align: middle;\n",
       "    }\n",
       "\n",
       "    .dataframe tbody tr th {\n",
       "        vertical-align: top;\n",
       "    }\n",
       "\n",
       "    .dataframe thead th {\n",
       "        text-align: right;\n",
       "    }\n",
       "</style>\n",
       "<table border=\"1\" class=\"dataframe\">\n",
       "  <thead>\n",
       "    <tr style=\"text-align: right;\">\n",
       "      <th></th>\n",
       "      <th>Country_Area</th>\n",
       "      <th>usd_2017</th>\n",
       "      <th>weight_2017</th>\n",
       "    </tr>\n",
       "  </thead>\n",
       "  <tbody>\n",
       "    <tr>\n",
       "      <th>0</th>\n",
       "      <td>Philippines</td>\n",
       "      <td>277496260</td>\n",
       "      <td>85363016</td>\n",
       "    </tr>\n",
       "  </tbody>\n",
       "</table>\n",
       "</div>"
      ],
      "text/plain": [
       "  Country_Area  usd_2017  weight_2017\n",
       "0  Philippines 277496260     85363016"
      ]
     },
     "execution_count": 74,
     "metadata": {},
     "output_type": "execute_result"
    }
   ],
   "source": [
    "usd_w_17 = merge[['Country_Area','usd_2017', 'weight_2017']]\n",
    "usd_w_17.head(1)"
   ]
  },
  {
   "cell_type": "code",
   "execution_count": 84,
   "metadata": {},
   "outputs": [
    {
     "data": {
      "text/html": [
       "<div>\n",
       "<style scoped>\n",
       "    .dataframe tbody tr th:only-of-type {\n",
       "        vertical-align: middle;\n",
       "    }\n",
       "\n",
       "    .dataframe tbody tr th {\n",
       "        vertical-align: top;\n",
       "    }\n",
       "\n",
       "    .dataframe thead th {\n",
       "        text-align: right;\n",
       "    }\n",
       "</style>\n",
       "<table border=\"1\" class=\"dataframe\">\n",
       "  <thead>\n",
       "    <tr style=\"text-align: right;\">\n",
       "      <th></th>\n",
       "      <th>Country_Area</th>\n",
       "      <th>weight_pct</th>\n",
       "      <th>ucd_pct</th>\n",
       "    </tr>\n",
       "  </thead>\n",
       "  <tbody>\n",
       "    <tr>\n",
       "      <th>0</th>\n",
       "      <td>Philippines</td>\n",
       "      <td>3</td>\n",
       "      <td>1</td>\n",
       "    </tr>\n",
       "  </tbody>\n",
       "</table>\n",
       "</div>"
      ],
      "text/plain": [
       "  Country_Area  weight_pct  ucd_pct\n",
       "0  Philippines           3        1"
      ]
     },
     "execution_count": 84,
     "metadata": {},
     "output_type": "execute_result"
    }
   ],
   "source": [
    "usdw_pct_17 = merge[['Country_Area','weight_pct','ucd_pct']]\n",
    "usdw_pct_17.head(1)"
   ]
  },
  {
   "cell_type": "code",
   "execution_count": 85,
   "metadata": {},
   "outputs": [
    {
     "data": {
      "text/plain": [
       "<matplotlib.axes._subplots.AxesSubplot at 0x28a13a91518>"
      ]
     },
     "execution_count": 85,
     "metadata": {},
     "output_type": "execute_result"
    },
    {
     "data": {
      "image/png": "[encoded data removed]",
      "text/plain": [
       "<Figure size 800x600 with 1 Axes>"
      ]
     },
     "metadata": {},
     "output_type": "display_data"
    }
   ],
   "source": [
    "fig, ax = plt.subplots(figsize=(8,6))\n",
    "\n",
    "usd_w_17.plot(kind='barh',x='Country_Area',ax=ax)"
   ]
  },
  {
   "cell_type": "code",
   "execution_count": 86,
   "metadata": {},
   "outputs": [
    {
     "data": {
      "text/plain": [
       "<matplotlib.axes._subplots.AxesSubplot at 0x28a13e0b898>"
      ]
     },
     "execution_count": 86,
     "metadata": {},
     "output_type": "execute_result"
    },
    {
     "data": {
      "image/png": "[encoded data removed]",
      "text/plain": [
       "<Figure size 800x600 with 1 Axes>"
      ]
     },
     "metadata": {},
     "output_type": "display_data"
    }
   ],
   "source": [
    "fig, ax = plt.subplots(figsize=(8,6))\n",
    "\n",
    "usdw_pct_17.plot(kind='barh', x='Country_Area', ax=ax)"
   ]
  },
  {
   "cell_type": "code",
   "execution_count": 71,
   "metadata": {},
   "outputs": [
    {
     "data": {
      "text/plain": [
       "<matplotlib.axes._subplots.AxesSubplot at 0x28a12e957f0>"
      ]
     },
     "execution_count": 71,
     "metadata": {},
     "output_type": "execute_result"
    },
    {
     "data": {
      "image/png": "[encoded data removed]",
      "text/plain": [
       "<Figure size 800x600 with 1 Axes>"
      ]
     },
     "metadata": {},
     "output_type": "display_data"
    }
   ],
   "source": [
    "fig, ax = plt.subplots(figsize=(8, 6))\n",
    "\n",
    "merge.plot(kind='barh', ax=ax)"
   ]
  },
  {
   "cell_type": "code",
   "execution_count": 72,
   "metadata": {},
   "outputs": [
    {
     "data": {
      "text/html": [
       "<div>\n",
       "<style scoped>\n",
       "    .dataframe tbody tr th:only-of-type {\n",
       "        vertical-align: middle;\n",
       "    }\n",
       "\n",
       "    .dataframe tbody tr th {\n",
       "        vertical-align: top;\n",
       "    }\n",
       "\n",
       "    .dataframe thead th {\n",
       "        text-align: right;\n",
       "    }\n",
       "</style>\n",
       "<table border=\"1\" class=\"dataframe\">\n",
       "  <thead>\n",
       "    <tr style=\"text-align: right;\">\n",
       "      <th></th>\n",
       "      <th>Country_Area</th>\n",
       "      <th>Year</th>\n",
       "      <th>Commodity</th>\n",
       "      <th>Flow</th>\n",
       "      <th>USD</th>\n",
       "      <th>Weight</th>\n",
       "    </tr>\n",
       "  </thead>\n",
       "  <tbody>\n",
       "    <tr>\n",
       "      <th>16909</th>\n",
       "      <td>Germany</td>\n",
       "      <td>2017</td>\n",
       "      <td>Tobacco, unmanufactured, not stemmed or stripped</td>\n",
       "      <td>Export</td>\n",
       "      <td>47142234</td>\n",
       "      <td>6208430</td>\n",
       "    </tr>\n",
       "    <tr>\n",
       "      <th>16911</th>\n",
       "      <td>Germany</td>\n",
       "      <td>2017</td>\n",
       "      <td>Tobacco, unmanufactured, stemmed or stripped</td>\n",
       "      <td>Export</td>\n",
       "      <td>421106891</td>\n",
       "      <td>59851021</td>\n",
       "    </tr>\n",
       "    <tr>\n",
       "      <th>16913</th>\n",
       "      <td>Germany</td>\n",
       "      <td>2017</td>\n",
       "      <td>Tobacco refuse</td>\n",
       "      <td>Export</td>\n",
       "      <td>6639470</td>\n",
       "      <td>7110330</td>\n",
       "    </tr>\n",
       "    <tr>\n",
       "      <th>16915</th>\n",
       "      <td>Germany</td>\n",
       "      <td>2017</td>\n",
       "      <td>Cigars, cheroots and cigarillos, containing tobacco</td>\n",
       "      <td>Export</td>\n",
       "      <td>207915273</td>\n",
       "      <td>4553525</td>\n",
       "    </tr>\n",
       "    <tr>\n",
       "      <th>16917</th>\n",
       "      <td>Germany</td>\n",
       "      <td>2017</td>\n",
       "      <td>Cigarettes containing tobacco</td>\n",
       "      <td>Export</td>\n",
       "      <td>3077966524</td>\n",
       "      <td>130394474</td>\n",
       "    </tr>\n",
       "  </tbody>\n",
       "</table>\n",
       "</div>"
      ],
      "text/plain": [
       "      Country_Area  Year                                            Commodity  \\\n",
       "16909      Germany  2017     Tobacco, unmanufactured, not stemmed or stripped   \n",
       "16911      Germany  2017         Tobacco, unmanufactured, stemmed or stripped   \n",
       "16913      Germany  2017                                       Tobacco refuse   \n",
       "16915      Germany  2017  Cigars, cheroots and cigarillos, containing tobacco   \n",
       "16917      Germany  2017                        Cigarettes containing tobacco   \n",
       "\n",
       "         Flow        USD    Weight  \n",
       "16909  Export   47142234   6208430  \n",
       "16911  Export  421106891  59851021  \n",
       "16913  Export    6639470   7110330  \n",
       "16915  Export  207915273   4553525  \n",
       "16917  Export 3077966524 130394474  "
      ]
     },
     "execution_count": 72,
     "metadata": {},
     "output_type": "execute_result"
    }
   ],
   "source": [
    "germany = export_df[export_df['Country_Area']=='Germany']\n",
    "germany.head()"
   ]
  },
  {
   "cell_type": "code",
   "execution_count": 80,
   "metadata": {},
   "outputs": [
    {
     "data": {
      "text/html": [
       "<div>\n",
       "<style scoped>\n",
       "    .dataframe tbody tr th:only-of-type {\n",
       "        vertical-align: middle;\n",
       "    }\n",
       "\n",
       "    .dataframe tbody tr th {\n",
       "        vertical-align: top;\n",
       "    }\n",
       "\n",
       "    .dataframe thead th {\n",
       "        text-align: right;\n",
       "    }\n",
       "</style>\n",
       "<table border=\"1\" class=\"dataframe\">\n",
       "  <thead>\n",
       "    <tr style=\"text-align: right;\">\n",
       "      <th></th>\n",
       "      <th>Year</th>\n",
       "      <th>german_usd</th>\n",
       "    </tr>\n",
       "  </thead>\n",
       "  <tbody>\n",
       "    <tr>\n",
       "      <th>0</th>\n",
       "      <td>1991</td>\n",
       "      <td>1248924008</td>\n",
       "    </tr>\n",
       "    <tr>\n",
       "      <th>1</th>\n",
       "      <td>1992</td>\n",
       "      <td>1450401968</td>\n",
       "    </tr>\n",
       "    <tr>\n",
       "      <th>2</th>\n",
       "      <td>1993</td>\n",
       "      <td>1240888008</td>\n",
       "    </tr>\n",
       "    <tr>\n",
       "      <th>3</th>\n",
       "      <td>1994</td>\n",
       "      <td>1420087040</td>\n",
       "    </tr>\n",
       "    <tr>\n",
       "      <th>4</th>\n",
       "      <td>1995</td>\n",
       "      <td>1450777032</td>\n",
       "    </tr>\n",
       "  </tbody>\n",
       "</table>\n",
       "</div>"
      ],
      "text/plain": [
       "   Year  german_usd\n",
       "0  1991  1248924008\n",
       "1  1992  1450401968\n",
       "2  1993  1240888008\n",
       "3  1994  1420087040\n",
       "4  1995  1450777032"
      ]
     },
     "execution_count": 80,
     "metadata": {},
     "output_type": "execute_result"
    }
   ],
   "source": [
    "german_usd = germany.groupby('Year').USD.sum().reset_index(name='german_usd')\n",
    "german_usd.head()"
   ]
  },
  {
   "cell_type": "code",
   "execution_count": 81,
   "metadata": {},
   "outputs": [
    {
     "data": {
      "text/html": [
       "<div>\n",
       "<style scoped>\n",
       "    .dataframe tbody tr th:only-of-type {\n",
       "        vertical-align: middle;\n",
       "    }\n",
       "\n",
       "    .dataframe tbody tr th {\n",
       "        vertical-align: top;\n",
       "    }\n",
       "\n",
       "    .dataframe thead th {\n",
       "        text-align: right;\n",
       "    }\n",
       "</style>\n",
       "<table border=\"1\" class=\"dataframe\">\n",
       "  <thead>\n",
       "    <tr style=\"text-align: right;\">\n",
       "      <th></th>\n",
       "      <th>Year</th>\n",
       "      <th>german_weight</th>\n",
       "    </tr>\n",
       "  </thead>\n",
       "  <tbody>\n",
       "    <tr>\n",
       "      <th>0</th>\n",
       "      <td>1991</td>\n",
       "      <td>118757463</td>\n",
       "    </tr>\n",
       "    <tr>\n",
       "      <th>1</th>\n",
       "      <td>1992</td>\n",
       "      <td>116123440</td>\n",
       "    </tr>\n",
       "    <tr>\n",
       "      <th>2</th>\n",
       "      <td>1993</td>\n",
       "      <td>106608802</td>\n",
       "    </tr>\n",
       "    <tr>\n",
       "      <th>3</th>\n",
       "      <td>1994</td>\n",
       "      <td>128239999</td>\n",
       "    </tr>\n",
       "    <tr>\n",
       "      <th>4</th>\n",
       "      <td>1995</td>\n",
       "      <td>123111198</td>\n",
       "    </tr>\n",
       "  </tbody>\n",
       "</table>\n",
       "</div>"
      ],
      "text/plain": [
       "   Year  german_weight\n",
       "0  1991      118757463\n",
       "1  1992      116123440\n",
       "2  1993      106608802\n",
       "3  1994      128239999\n",
       "4  1995      123111198"
      ]
     },
     "execution_count": 81,
     "metadata": {},
     "output_type": "execute_result"
    }
   ],
   "source": [
    "german_weight = germany.groupby('Year').Weight.sum().reset_index(name='german_weight')\n",
    "german_weight.head()"
   ]
  },
  {
   "cell_type": "code",
   "execution_count": 82,
   "metadata": {},
   "outputs": [
    {
     "data": {
      "text/html": [
       "<div>\n",
       "<style scoped>\n",
       "    .dataframe tbody tr th:only-of-type {\n",
       "        vertical-align: middle;\n",
       "    }\n",
       "\n",
       "    .dataframe tbody tr th {\n",
       "        vertical-align: top;\n",
       "    }\n",
       "\n",
       "    .dataframe thead th {\n",
       "        text-align: right;\n",
       "    }\n",
       "</style>\n",
       "<table border=\"1\" class=\"dataframe\">\n",
       "  <thead>\n",
       "    <tr style=\"text-align: right;\">\n",
       "      <th></th>\n",
       "      <th>Year</th>\n",
       "      <th>poland_usd</th>\n",
       "    </tr>\n",
       "  </thead>\n",
       "  <tbody>\n",
       "    <tr>\n",
       "      <th>0</th>\n",
       "      <td>1994</td>\n",
       "      <td>53496000</td>\n",
       "    </tr>\n",
       "    <tr>\n",
       "      <th>1</th>\n",
       "      <td>1995</td>\n",
       "      <td>26932001</td>\n",
       "    </tr>\n",
       "    <tr>\n",
       "      <th>2</th>\n",
       "      <td>1996</td>\n",
       "      <td>43555000</td>\n",
       "    </tr>\n",
       "    <tr>\n",
       "      <th>3</th>\n",
       "      <td>1997</td>\n",
       "      <td>47625674</td>\n",
       "    </tr>\n",
       "    <tr>\n",
       "      <th>4</th>\n",
       "      <td>1998</td>\n",
       "      <td>44607000</td>\n",
       "    </tr>\n",
       "  </tbody>\n",
       "</table>\n",
       "</div>"
      ],
      "text/plain": [
       "   Year  poland_usd\n",
       "0  1994    53496000\n",
       "1  1995    26932001\n",
       "2  1996    43555000\n",
       "3  1997    47625674\n",
       "4  1998    44607000"
      ]
     },
     "execution_count": 82,
     "metadata": {},
     "output_type": "execute_result"
    }
   ],
   "source": [
    "poland = export_df[export_df['Country_Area']=='Poland']\n",
    "poland_usd = poland.groupby('Year').USD.sum().reset_index(name='poland_usd')\n",
    "poland_usd.head()"
   ]
  },
  {
   "cell_type": "code",
   "execution_count": 83,
   "metadata": {},
   "outputs": [
    {
     "data": {
      "text/html": [
       "<div>\n",
       "<style scoped>\n",
       "    .dataframe tbody tr th:only-of-type {\n",
       "        vertical-align: middle;\n",
       "    }\n",
       "\n",
       "    .dataframe tbody tr th {\n",
       "        vertical-align: top;\n",
       "    }\n",
       "\n",
       "    .dataframe thead th {\n",
       "        text-align: right;\n",
       "    }\n",
       "</style>\n",
       "<table border=\"1\" class=\"dataframe\">\n",
       "  <thead>\n",
       "    <tr style=\"text-align: right;\">\n",
       "      <th></th>\n",
       "      <th>Year</th>\n",
       "      <th>poland_weight</th>\n",
       "    </tr>\n",
       "  </thead>\n",
       "  <tbody>\n",
       "    <tr>\n",
       "      <th>0</th>\n",
       "      <td>1994</td>\n",
       "      <td>6016000</td>\n",
       "    </tr>\n",
       "    <tr>\n",
       "      <th>1</th>\n",
       "      <td>1995</td>\n",
       "      <td>4982794</td>\n",
       "    </tr>\n",
       "    <tr>\n",
       "      <th>2</th>\n",
       "      <td>1996</td>\n",
       "      <td>10669728</td>\n",
       "    </tr>\n",
       "    <tr>\n",
       "      <th>3</th>\n",
       "      <td>1997</td>\n",
       "      <td>13164254</td>\n",
       "    </tr>\n",
       "    <tr>\n",
       "      <th>4</th>\n",
       "      <td>1998</td>\n",
       "      <td>13287925</td>\n",
       "    </tr>\n",
       "  </tbody>\n",
       "</table>\n",
       "</div>"
      ],
      "text/plain": [
       "   Year  poland_weight\n",
       "0  1994        6016000\n",
       "1  1995        4982794\n",
       "2  1996       10669728\n",
       "3  1997       13164254\n",
       "4  1998       13287925"
      ]
     },
     "execution_count": 83,
     "metadata": {},
     "output_type": "execute_result"
    }
   ],
   "source": [
    "poland_weight = poland.groupby('Year').Weight.sum().reset_index(name='poland_weight')\n",
    "poland_weight.head()"
   ]
  },
  {
   "cell_type": "code",
   "execution_count": 84,
   "metadata": {},
   "outputs": [
    {
     "data": {
      "text/html": [
       "<div>\n",
       "<style scoped>\n",
       "    .dataframe tbody tr th:only-of-type {\n",
       "        vertical-align: middle;\n",
       "    }\n",
       "\n",
       "    .dataframe tbody tr th {\n",
       "        vertical-align: top;\n",
       "    }\n",
       "\n",
       "    .dataframe thead th {\n",
       "        text-align: right;\n",
       "    }\n",
       "</style>\n",
       "<table border=\"1\" class=\"dataframe\">\n",
       "  <thead>\n",
       "    <tr style=\"text-align: right;\">\n",
       "      <th></th>\n",
       "      <th>Year</th>\n",
       "      <th>usa_usd</th>\n",
       "    </tr>\n",
       "  </thead>\n",
       "  <tbody>\n",
       "    <tr>\n",
       "      <th>0</th>\n",
       "      <td>1991</td>\n",
       "      <td>6044897602</td>\n",
       "    </tr>\n",
       "    <tr>\n",
       "      <th>1</th>\n",
       "      <td>1992</td>\n",
       "      <td>6194879623</td>\n",
       "    </tr>\n",
       "    <tr>\n",
       "      <th>2</th>\n",
       "      <td>1993</td>\n",
       "      <td>5607950732</td>\n",
       "    </tr>\n",
       "    <tr>\n",
       "      <th>3</th>\n",
       "      <td>1994</td>\n",
       "      <td>6811425912</td>\n",
       "    </tr>\n",
       "    <tr>\n",
       "      <th>4</th>\n",
       "      <td>1995</td>\n",
       "      <td>6714925325</td>\n",
       "    </tr>\n",
       "  </tbody>\n",
       "</table>\n",
       "</div>"
      ],
      "text/plain": [
       "   Year    usa_usd\n",
       "0  1991 6044897602\n",
       "1  1992 6194879623\n",
       "2  1993 5607950732\n",
       "3  1994 6811425912\n",
       "4  1995 6714925325"
      ]
     },
     "execution_count": 84,
     "metadata": {},
     "output_type": "execute_result"
    }
   ],
   "source": [
    "usa = export_df[export_df['Country_Area']=='USA']\n",
    "usa_usd = usa.groupby('Year').USD.sum().reset_index(name='usa_usd')\n",
    "usa_usd.head()"
   ]
  },
  {
   "cell_type": "code",
   "execution_count": 85,
   "metadata": {},
   "outputs": [
    {
     "data": {
      "text/html": [
       "<div>\n",
       "<style scoped>\n",
       "    .dataframe tbody tr th:only-of-type {\n",
       "        vertical-align: middle;\n",
       "    }\n",
       "\n",
       "    .dataframe tbody tr th {\n",
       "        vertical-align: top;\n",
       "    }\n",
       "\n",
       "    .dataframe thead th {\n",
       "        text-align: right;\n",
       "    }\n",
       "</style>\n",
       "<table border=\"1\" class=\"dataframe\">\n",
       "  <thead>\n",
       "    <tr style=\"text-align: right;\">\n",
       "      <th></th>\n",
       "      <th>Year</th>\n",
       "      <th>usa_weight</th>\n",
       "    </tr>\n",
       "  </thead>\n",
       "  <tbody>\n",
       "    <tr>\n",
       "      <th>0</th>\n",
       "      <td>1991</td>\n",
       "      <td>6044897602</td>\n",
       "    </tr>\n",
       "    <tr>\n",
       "      <th>1</th>\n",
       "      <td>1992</td>\n",
       "      <td>6194879623</td>\n",
       "    </tr>\n",
       "    <tr>\n",
       "      <th>2</th>\n",
       "      <td>1993</td>\n",
       "      <td>5607950732</td>\n",
       "    </tr>\n",
       "    <tr>\n",
       "      <th>3</th>\n",
       "      <td>1994</td>\n",
       "      <td>6811425912</td>\n",
       "    </tr>\n",
       "    <tr>\n",
       "      <th>4</th>\n",
       "      <td>1995</td>\n",
       "      <td>6714925325</td>\n",
       "    </tr>\n",
       "  </tbody>\n",
       "</table>\n",
       "</div>"
      ],
      "text/plain": [
       "   Year  usa_weight\n",
       "0  1991  6044897602\n",
       "1  1992  6194879623\n",
       "2  1993  5607950732\n",
       "3  1994  6811425912\n",
       "4  1995  6714925325"
      ]
     },
     "execution_count": 85,
     "metadata": {},
     "output_type": "execute_result"
    }
   ],
   "source": [
    "usa_weight = usa.groupby('Year').USD.sum().reset_index(name='usa_weight')\n",
    "usa_weight.head()"
   ]
  },
  {
   "cell_type": "code",
   "execution_count": 86,
   "metadata": {},
   "outputs": [
    {
     "data": {
      "text/html": [
       "<div>\n",
       "<style scoped>\n",
       "    .dataframe tbody tr th:only-of-type {\n",
       "        vertical-align: middle;\n",
       "    }\n",
       "\n",
       "    .dataframe tbody tr th {\n",
       "        vertical-align: top;\n",
       "    }\n",
       "\n",
       "    .dataframe thead th {\n",
       "        text-align: right;\n",
       "    }\n",
       "</style>\n",
       "<table border=\"1\" class=\"dataframe\">\n",
       "  <thead>\n",
       "    <tr style=\"text-align: right;\">\n",
       "      <th></th>\n",
       "      <th>Year</th>\n",
       "      <th>german_usd</th>\n",
       "      <th>poland_usd</th>\n",
       "      <th>usa_usd</th>\n",
       "    </tr>\n",
       "  </thead>\n",
       "  <tbody>\n",
       "    <tr>\n",
       "      <th>0</th>\n",
       "      <td>1994</td>\n",
       "      <td>1420087040</td>\n",
       "      <td>53496000</td>\n",
       "      <td>6811425912</td>\n",
       "    </tr>\n",
       "    <tr>\n",
       "      <th>1</th>\n",
       "      <td>1995</td>\n",
       "      <td>1450777032</td>\n",
       "      <td>26932001</td>\n",
       "      <td>6714925325</td>\n",
       "    </tr>\n",
       "    <tr>\n",
       "      <th>2</th>\n",
       "      <td>1996</td>\n",
       "      <td>1681098798</td>\n",
       "      <td>43555000</td>\n",
       "      <td>6698720493</td>\n",
       "    </tr>\n",
       "    <tr>\n",
       "      <th>3</th>\n",
       "      <td>1997</td>\n",
       "      <td>1449310073</td>\n",
       "      <td>47625674</td>\n",
       "      <td>6665179625</td>\n",
       "    </tr>\n",
       "    <tr>\n",
       "      <th>4</th>\n",
       "      <td>1998</td>\n",
       "      <td>1643165032</td>\n",
       "      <td>44607000</td>\n",
       "      <td>6333127932</td>\n",
       "    </tr>\n",
       "  </tbody>\n",
       "</table>\n",
       "</div>"
      ],
      "text/plain": [
       "   Year  german_usd  poland_usd    usa_usd\n",
       "0  1994  1420087040    53496000 6811425912\n",
       "1  1995  1450777032    26932001 6714925325\n",
       "2  1996  1681098798    43555000 6698720493\n",
       "3  1997  1449310073    47625674 6665179625\n",
       "4  1998  1643165032    44607000 6333127932"
      ]
     },
     "execution_count": 86,
     "metadata": {},
     "output_type": "execute_result"
    }
   ],
   "source": [
    "hist_usd = pd.merge(pd.merge(german_usd,poland_usd,on='Year'),usa_usd,on='Year')\n",
    "hist_usd.head()"
   ]
  },
  {
   "cell_type": "code",
   "execution_count": 87,
   "metadata": {},
   "outputs": [
    {
     "data": {
      "text/html": [
       "<div>\n",
       "<style scoped>\n",
       "    .dataframe tbody tr th:only-of-type {\n",
       "        vertical-align: middle;\n",
       "    }\n",
       "\n",
       "    .dataframe tbody tr th {\n",
       "        vertical-align: top;\n",
       "    }\n",
       "\n",
       "    .dataframe thead th {\n",
       "        text-align: right;\n",
       "    }\n",
       "</style>\n",
       "<table border=\"1\" class=\"dataframe\">\n",
       "  <thead>\n",
       "    <tr style=\"text-align: right;\">\n",
       "      <th></th>\n",
       "      <th>Year</th>\n",
       "      <th>german_weight</th>\n",
       "      <th>poland_weight</th>\n",
       "      <th>usa_weight</th>\n",
       "    </tr>\n",
       "  </thead>\n",
       "  <tbody>\n",
       "    <tr>\n",
       "      <th>0</th>\n",
       "      <td>1994</td>\n",
       "      <td>128239999</td>\n",
       "      <td>6016000</td>\n",
       "      <td>6811425912</td>\n",
       "    </tr>\n",
       "    <tr>\n",
       "      <th>1</th>\n",
       "      <td>1995</td>\n",
       "      <td>123111198</td>\n",
       "      <td>4982794</td>\n",
       "      <td>6714925325</td>\n",
       "    </tr>\n",
       "    <tr>\n",
       "      <th>2</th>\n",
       "      <td>1996</td>\n",
       "      <td>145286001</td>\n",
       "      <td>10669728</td>\n",
       "      <td>6698720493</td>\n",
       "    </tr>\n",
       "    <tr>\n",
       "      <th>3</th>\n",
       "      <td>1997</td>\n",
       "      <td>141665425</td>\n",
       "      <td>13164254</td>\n",
       "      <td>6665179625</td>\n",
       "    </tr>\n",
       "    <tr>\n",
       "      <th>4</th>\n",
       "      <td>1998</td>\n",
       "      <td>152201196</td>\n",
       "      <td>13287925</td>\n",
       "      <td>6333127932</td>\n",
       "    </tr>\n",
       "  </tbody>\n",
       "</table>\n",
       "</div>"
      ],
      "text/plain": [
       "   Year  german_weight  poland_weight  usa_weight\n",
       "0  1994      128239999        6016000  6811425912\n",
       "1  1995      123111198        4982794  6714925325\n",
       "2  1996      145286001       10669728  6698720493\n",
       "3  1997      141665425       13164254  6665179625\n",
       "4  1998      152201196       13287925  6333127932"
      ]
     },
     "execution_count": 87,
     "metadata": {},
     "output_type": "execute_result"
    }
   ],
   "source": [
    "hist_w = pd.merge(pd.merge(german_weight,poland_weight,on='Year'),usa_weight,on='Year')\n",
    "hist_w.head()"
   ]
  },
  {
   "cell_type": "code",
   "execution_count": 34,
   "metadata": {},
   "outputs": [
    {
     "data": {
      "text/plain": [
       "<matplotlib.axes._subplots.AxesSubplot at 0x2899709da58>"
      ]
     },
     "execution_count": 34,
     "metadata": {},
     "output_type": "execute_result"
    }
   ],
   "source": [
    "hist_usd.plot(kind='line',x='Year')"
   ]
  },
  {
   "cell_type": "code",
   "execution_count": 88,
   "metadata": {},
   "outputs": [],
   "source": [
    "colors = ['#423525','#AA552E','#586923']"
   ]
  },
  {
   "cell_type": "code",
   "execution_count": 89,
   "metadata": {},
   "outputs": [
    {
     "data": {
      "image/png": "[encoded data removed]",
      "text/plain": [
       "<Figure size 1000x500 with 1 Axes>"
      ]
     },
     "metadata": {},
     "output_type": "display_data"
    }
   ],
   "source": [
    "from matplotlib.ticker import FuncFormatter\n",
    "\n",
    "# STEP ONE: Build a function\n",
    "# it should take value and pos\n",
    "def with_words(value, pos):\n",
    "    billions = int(value / 1000000000)\n",
    "    return \"{} billion\".format(billions)\n",
    "\n",
    "# STEP TWO: Use FuncFormatter with that function???\n",
    "formatter = FuncFormatter(with_words)\n",
    "\n",
    "ax = hist_usd.plot(kind='line', x='Year', figsize=(10, 5), color=colors)\n",
    "\n",
    "# STEP THREE: Give the axis your formatter\n",
    "ax.yaxis.set_major_formatter(formatter)\n",
    "\n",
    "#ax = hist_usd.plot(kind='line', x='Year', figsize=(10, 5), color=colors)\n",
    "\n",
    "plt.rcdefaults()\n",
    "plt.rcParams.update({\n",
    "    #'axes.prop_cycle': cycler('color', ['#423525','#AA552E','#586923','#AF0714','#86909A','#B08F70']),\n",
    "    'axes.facecolor': '#FEF7F1',\n",
    "    'savefig.facecolor': '#FEF7F1',\n",
    "    'figure.facecolor': '#FEF7F1',\n",
    "    'axes.spines.left': True,\n",
    "    'axes.spines.bottom': True,\n",
    "    'axes.spines.top': False,\n",
    "    'axes.spines.right': False,\n",
    "#    'axes.grid':True\n",
    "#   'grid.color':'#ffffff',\n",
    "#   'grid.linewidth':2,\n",
    "#    'grid.alpha':0.6,\n",
    "    'xtick.top': False,\n",
    "    'xtick.bottom': True,\n",
    "    'xtick.color': '#646C6F',\n",
    "    'ytick.color':'#646C6F',\n",
    "    #'ytick.bottom': True,\n",
    "    #'ytick.color': 'black'\n",
    "    #'xtick.major.size': 7,\n",
    "    #'xtick.major.width': 3,\n",
    "    #'xtick.major.pad': 0,\n",
    "    #'xtick.direction': 'in',\n",
    "    'xtick.labelsize': 'small',\n",
    "    'ytick.labelsize': 'small',\n",
    "    'legend.loc': 'best',\n",
    "     'legend.frameon': False,\n",
    "     'legend.fontsize': 'small',\n",
    "     'legend.handlelength': 0.5,\n",
    "     'legend.handleheight': 0.5,\n",
    "    #'legend.columnspacing': 2.0,\n",
    "    'font.family': 'Segoe UI Symbol',\n",
    "    'font.size':12,\n",
    "    'text.color':'#646C6F'\n",
    "     })\n",
    "\n",
    "\n",
    "ax.set_xlabel('Visas by continent',fontsize=12,fontname=\"Segoe UI Symbol\")\n",
    "ax.set_ylabel(\"It's more than 15 years that South America has been coming first\",fontsize=12,fontname=\"Segoe UI Symbol\")\n",
    "ax.axes.labelpad: 4.0\n",
    "ax.xaxis.label.set_visible(False)\n",
    "ax.yaxis.label.set_visible(False)\n",
    "# ax.spines['top'].set_visible(False)\n",
    "# ax.spines['left'].set_visible(True)\n",
    "# ax.spines['bottom'].set_visible(True)\n",
    "# ax.spines['right'].set_visible(False)\n",
    "# ax.set_yticks([0,10,20,30,40,50,60])\n",
    "# ax.set_yticklabels(['0','','20','','40','','60'],color='#646C6F')\n",
    "# ax.set_xticks([1990,1991,1992,1993,1994,1995,2000,2005,2010,2015,2020])\n",
    "# ax.set_yticklabels(['','1995','','2005','','2015',''],color='#646C6F')\n",
    "\n",
    "title_string = \"This is the title\"\n",
    "subtitle_string = \"This is the subtitle\"\n",
    "plt.suptitle(title_string, y=1, x=0.14, fontsize=16,color='black')\n",
    "plt.title(subtitle_string, y=1.03, x=0.01, fontsize=11)\n",
    "\n",
    "plt.show()\n"
   ]
  },
  {
   "cell_type": "code",
   "execution_count": 117,
   "metadata": {},
   "outputs": [
    {
     "data": {
      "text/plain": [
       "<matplotlib.axes._subplots.AxesSubplot at 0x23241e30f28>"
      ]
     },
     "execution_count": 117,
     "metadata": {},
     "output_type": "execute_result"
    },
    {
     "data": {
      "image/png": "[encoded data removed]",
      "text/plain": [
       "<Figure size 432x288 with 1 Axes>"
      ]
     },
     "metadata": {},
     "output_type": "display_data"
    }
   ],
   "source": [
    "hist_w.plot(kind='line',x='Year')"
   ]
  },
  {
   "cell_type": "code",
   "execution_count": 92,
   "metadata": {},
   "outputs": [
    {
     "data": {
      "image/png": "[encoded data removed]",
      "text/plain": [
       "<Figure size 1000x500 with 1 Axes>"
      ]
     },
     "metadata": {},
     "output_type": "display_data"
    }
   ],
   "source": [
    "# STEP ONE: Build a function\n",
    "# it should take value and pos\n",
    "def with_words(value, pos):\n",
    "    millions = int(value / 1000000)\n",
    "    return \"{}M kg\".format(millions)\n",
    "\n",
    "# STEP TWO: Use FuncFormatter with that function???\n",
    "formatter = FuncFormatter(with_words)\n",
    "\n",
    "# ax = hist_w.plot(kind='line', x='Year', figsize=(10, 5), color=colors)\n",
    "\n",
    "# # STEP THREE: Give the axis your formatter\n",
    "# ax.yaxis.set_major_formatter(formatter)\n",
    "\n",
    "\n",
    "ax = hist_w.plot(kind='line', x='Year', figsize=(10, 5), color=colors)\n",
    "ax.yaxis.set_major_formatter(formatter)\n",
    "\n",
    "plt.rcdefaults()\n",
    "plt.rcParams.update({\n",
    "#    'axes.prop_cycle': cycler('color', ['#423525','#AA552E','#586923','#AF0714','#86909A','#B08F70']),\n",
    "    'axes.facecolor': '#FEF7F1',\n",
    "    'savefig.facecolor': '#FEF7F1',\n",
    "    'figure.facecolor': '#FEF7F1',\n",
    "    'axes.spines.left': True,\n",
    "    'axes.spines.bottom': True,\n",
    "    'axes.spines.top': False,\n",
    "    'axes.spines.right': False,\n",
    "#    'axes.grid':True\n",
    "#   'grid.color':'#ffffff',\n",
    "#   'grid.linewidth':2,\n",
    "#    'grid.alpha':0.6,\n",
    "    'xtick.top': False,\n",
    "    'xtick.bottom': True,\n",
    "    'xtick.color': '#646C6F',\n",
    "    'ytick.color':'#646C6F',\n",
    "    #'ytick.bottom': True,\n",
    "    #'ytick.color': 'black'\n",
    "    #'xtick.major.size': 7,\n",
    "    #'xtick.major.width': 3,\n",
    "    #'xtick.major.pad': 0,\n",
    "    #'xtick.direction': 'in',\n",
    "    'xtick.labelsize': 'small',\n",
    "    'ytick.labelsize': 'small',\n",
    "    'legend.loc': 'best',\n",
    "     'legend.frameon': False,\n",
    "     'legend.fontsize': 'small',\n",
    "     'legend.handlelength': 0.5,\n",
    "     'legend.handleheight': 0.5,\n",
    "    #'legend.columnspacing': 2.0,\n",
    "    'font.family': 'Segoe UI Symbol',\n",
    "    'font.size':12,\n",
    "    'text.color':'#646C6F'\n",
    "     })\n",
    "\n",
    "\n",
    "ax.set_xlabel('Visas by continent',fontsize=12,fontname=\"Segoe UI Symbol\")\n",
    "ax.set_ylabel(\"It's more than 15 years that South America has been coming first\",fontsize=12,fontname=\"Segoe UI Symbol\")\n",
    "ax.axes.labelpad: 4.0\n",
    "ax.xaxis.label.set_visible(False)\n",
    "ax.yaxis.label.set_visible(False)\n",
    "# ax.spines['top'].set_visible(False)\n",
    "# ax.spines['left'].set_visible(True)\n",
    "# ax.spines['bottom'].set_visible(True)\n",
    "# ax.spines['right'].set_visible(False)\n",
    "# ax.set_yticks([0,10,20,30,40,50,60])\n",
    "# ax.set_yticklabels(['0','','20','','40','','60'],color='#646C6F')\n",
    "# ax.set_xticks([1990,1991,1992,1993,1994,1995,2000,2005,2010,2015,2020])\n",
    "# ax.set_yticklabels(['','1995','','2005','','2015',''],color='#646C6F')\n",
    "\n",
    "title_string = \"This is the title\"\n",
    "subtitle_string = \"This is the subtitle\"\n",
    "plt.suptitle(title_string, y=1, x=0.14, fontsize=16,color='black')\n",
    "plt.title(subtitle_string, y=1.03, x=0.01, fontsize=11)\n",
    "\n",
    "plt.show()\n"
   ]
  },
  {
   "cell_type": "code",
   "execution_count": null,
   "metadata": {},
   "outputs": [],
   "source": []
  },
  {
   "cell_type": "code",
   "execution_count": null,
   "metadata": {},
   "outputs": [],
   "source": []
  }
 ],
 "metadata": {
  "kernelspec": {
   "display_name": "Python 3",
   "language": "python",
   "name": "python3"
  },
  "language_info": {
   "codemirror_mode": {
    "name": "ipython",
    "version": 3
   },
   "file_extension": ".py",
   "mimetype": "text/x-python",
   "name": "python",
   "nbconvert_exporter": "python",
   "pygments_lexer": "ipython3",
   "version": "3.6.5"
  }
 },
 "nbformat": 4,
 "nbformat_minor": 2
}
